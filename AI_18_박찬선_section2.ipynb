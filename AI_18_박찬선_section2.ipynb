{
  "nbformat": 4,
  "nbformat_minor": 0,
  "metadata": {
    "colab": {
      "provenance": [],
      "collapsed_sections": [
        "JqeKuAP4t3IT",
        "z6qFsmaOS0nx",
        "2AaXyxkC4JDh",
        "TrIyY8-D3mfQ",
        "X9jQ9R96RNfP",
        "8bsuWc5-aspJ"
      ],
      "authorship_tag": "ABX9TyMpjDU4O+pFyRrOhtvN/lPP"
    },
    "kernelspec": {
      "name": "python3",
      "display_name": "Python 3"
    },
    "language_info": {
      "name": "python"
    }
  },
  "cells": [
    {
      "cell_type": "markdown",
      "source": [
        "\n",
        "* movie_name - Name of the movie\n",
        "*year - Release year\n",
        "*run_time - Total movie run time\n",
        "*genre - Genre of the movie\n",
        "*rating - Rating of the movie (10점 만점)\n",
        "*votes - Number of votes in IMDB website\n",
        "*gross(in $) - Gross Box Office of the movie"
      ],
      "metadata": {
        "id": "M395HEukrjCe"
      }
    },
    {
      "cell_type": "code",
      "source": [
        "!pip install category_encoders \n",
        "!pip3 install xgboost==1.7.2\n",
        "!pip3 install pdpbox\n",
        "!pip install eli5"
      ],
      "metadata": {
        "id": "ILbeZHb3IOdr",
        "colab": {
          "base_uri": "https://localhost:8080/"
        },
        "outputId": "f31f7367-c3d8-46dc-e9a7-122b9355613e"
      },
      "execution_count": 2,
      "outputs": [
        {
          "output_type": "stream",
          "name": "stdout",
          "text": [
            "Looking in indexes: https://pypi.org/simple, https://us-python.pkg.dev/colab-wheels/public/simple/\n",
            "Requirement already satisfied: category_encoders in /usr/local/lib/python3.9/dist-packages (2.6.0)\n",
            "Requirement already satisfied: statsmodels>=0.9.0 in /usr/local/lib/python3.9/dist-packages (from category_encoders) (0.13.5)\n",
            "Requirement already satisfied: patsy>=0.5.1 in /usr/local/lib/python3.9/dist-packages (from category_encoders) (0.5.3)\n",
            "Requirement already satisfied: pandas>=1.0.5 in /usr/local/lib/python3.9/dist-packages (from category_encoders) (1.5.3)\n",
            "Requirement already satisfied: numpy>=1.14.0 in /usr/local/lib/python3.9/dist-packages (from category_encoders) (1.22.4)\n",
            "Requirement already satisfied: scikit-learn>=0.20.0 in /usr/local/lib/python3.9/dist-packages (from category_encoders) (1.2.2)\n",
            "Requirement already satisfied: scipy>=1.0.0 in /usr/local/lib/python3.9/dist-packages (from category_encoders) (1.10.1)\n",
            "Requirement already satisfied: python-dateutil>=2.8.1 in /usr/local/lib/python3.9/dist-packages (from pandas>=1.0.5->category_encoders) (2.8.2)\n",
            "Requirement already satisfied: pytz>=2020.1 in /usr/local/lib/python3.9/dist-packages (from pandas>=1.0.5->category_encoders) (2022.7.1)\n",
            "Requirement already satisfied: six in /usr/local/lib/python3.9/dist-packages (from patsy>=0.5.1->category_encoders) (1.16.0)\n",
            "Requirement already satisfied: threadpoolctl>=2.0.0 in /usr/local/lib/python3.9/dist-packages (from scikit-learn>=0.20.0->category_encoders) (3.1.0)\n",
            "Requirement already satisfied: joblib>=1.1.1 in /usr/local/lib/python3.9/dist-packages (from scikit-learn>=0.20.0->category_encoders) (1.2.0)\n",
            "Requirement already satisfied: packaging>=21.3 in /usr/local/lib/python3.9/dist-packages (from statsmodels>=0.9.0->category_encoders) (23.0)\n",
            "Looking in indexes: https://pypi.org/simple, https://us-python.pkg.dev/colab-wheels/public/simple/\n",
            "Requirement already satisfied: xgboost==1.7.2 in /usr/local/lib/python3.9/dist-packages (1.7.2)\n",
            "Requirement already satisfied: numpy in /usr/local/lib/python3.9/dist-packages (from xgboost==1.7.2) (1.22.4)\n",
            "Requirement already satisfied: scipy in /usr/local/lib/python3.9/dist-packages (from xgboost==1.7.2) (1.10.1)\n",
            "Looking in indexes: https://pypi.org/simple, https://us-python.pkg.dev/colab-wheels/public/simple/\n",
            "Collecting pdpbox\n",
            "  Using cached PDPbox-0.2.1.tar.gz (34.0 MB)\n",
            "  Preparing metadata (setup.py) ... \u001b[?25l\u001b[?25hdone\n",
            "Requirement already satisfied: pandas in /usr/local/lib/python3.9/dist-packages (from pdpbox) (1.5.3)\n",
            "Requirement already satisfied: numpy in /usr/local/lib/python3.9/dist-packages (from pdpbox) (1.22.4)\n",
            "Requirement already satisfied: scipy in /usr/local/lib/python3.9/dist-packages (from pdpbox) (1.10.1)\n",
            "Requirement already satisfied: joblib in /usr/local/lib/python3.9/dist-packages (from pdpbox) (1.2.0)\n",
            "Requirement already satisfied: psutil in /usr/local/lib/python3.9/dist-packages (from pdpbox) (5.9.4)\n",
            "Collecting matplotlib==3.1.1\n",
            "  Using cached matplotlib-3.1.1.tar.gz (37.8 MB)\n",
            "  Preparing metadata (setup.py) ... \u001b[?25l\u001b[?25hdone\n",
            "Collecting sklearn\n",
            "  Using cached sklearn-0.0.post1.tar.gz (3.6 kB)\n",
            "  Preparing metadata (setup.py) ... \u001b[?25l\u001b[?25hdone\n",
            "Requirement already satisfied: cycler>=0.10 in /usr/local/lib/python3.9/dist-packages (from matplotlib==3.1.1->pdpbox) (0.11.0)\n",
            "Requirement already satisfied: kiwisolver>=1.0.1 in /usr/local/lib/python3.9/dist-packages (from matplotlib==3.1.1->pdpbox) (1.4.4)\n",
            "Requirement already satisfied: pyparsing!=2.0.4,!=2.1.2,!=2.1.6,>=2.0.1 in /usr/local/lib/python3.9/dist-packages (from matplotlib==3.1.1->pdpbox) (3.0.9)\n",
            "Requirement already satisfied: python-dateutil>=2.1 in /usr/local/lib/python3.9/dist-packages (from matplotlib==3.1.1->pdpbox) (2.8.2)\n",
            "Requirement already satisfied: pytz>=2020.1 in /usr/local/lib/python3.9/dist-packages (from pandas->pdpbox) (2022.7.1)\n",
            "Requirement already satisfied: six>=1.5 in /usr/local/lib/python3.9/dist-packages (from python-dateutil>=2.1->matplotlib==3.1.1->pdpbox) (1.16.0)\n",
            "Building wheels for collected packages: pdpbox, matplotlib, sklearn\n",
            "  Building wheel for pdpbox (setup.py) ... \u001b[?25l\u001b[?25hdone\n",
            "  Created wheel for pdpbox: filename=PDPbox-0.2.1-py3-none-any.whl size=35758224 sha256=ff6f9c241f159c04348651c1b72019fff6da01685b4588ae42217f8b0a2a1917\n",
            "  Stored in directory: /root/.cache/pip/wheels/f2/5e/63/62e00a642415e064a55f53b5095ceb1420d24685125420d3ac\n",
            "  Building wheel for matplotlib (setup.py) ... \u001b[?25l\u001b[?25hdone\n",
            "  Created wheel for matplotlib: filename=matplotlib-3.1.1-cp39-cp39-linux_x86_64.whl size=12059995 sha256=493e6af93bbdc5ea69cda64ae8cf9ce450f1a13c2c4d941309743548b44bc8c2\n",
            "  Stored in directory: /root/.cache/pip/wheels/25/d0/ab/05f776f079a53f4c6a12c98220910f4d0d245609b8c673a5ad\n",
            "  Building wheel for sklearn (setup.py) ... \u001b[?25l\u001b[?25hdone\n",
            "  Created wheel for sklearn: filename=sklearn-0.0.post1-py3-none-any.whl size=2955 sha256=4bb35f655aeec139ab5cae440676d07de9dd0b3ccb277c15582df47bd84c65c6\n",
            "  Stored in directory: /root/.cache/pip/wheels/f8/e0/3d/9d0c2020c44a519b9f02ab4fa6d2a4a996c98d79ab2f569fa1\n",
            "Successfully built pdpbox matplotlib sklearn\n",
            "Installing collected packages: sklearn, matplotlib, pdpbox\n",
            "  Attempting uninstall: matplotlib\n",
            "    Found existing installation: matplotlib 3.7.1\n",
            "    Uninstalling matplotlib-3.7.1:\n",
            "      Successfully uninstalled matplotlib-3.7.1\n",
            "\u001b[31mERROR: pip's dependency resolver does not currently take into account all the packages that are installed. This behaviour is the source of the following dependency conflicts.\n",
            "plotnine 0.10.1 requires matplotlib>=3.5.0, but you have matplotlib 3.1.1 which is incompatible.\n",
            "mizani 0.8.1 requires matplotlib>=3.5.0, but you have matplotlib 3.1.1 which is incompatible.\n",
            "arviz 0.15.1 requires matplotlib>=3.2, but you have matplotlib 3.1.1 which is incompatible.\u001b[0m\u001b[31m\n",
            "\u001b[0mSuccessfully installed matplotlib-3.1.1 pdpbox-0.2.1 sklearn-0.0.post1\n",
            "Looking in indexes: https://pypi.org/simple, https://us-python.pkg.dev/colab-wheels/public/simple/\n",
            "Requirement already satisfied: eli5 in /usr/local/lib/python3.9/dist-packages (0.13.0)\n",
            "Requirement already satisfied: jinja2>=3.0.0 in /usr/local/lib/python3.9/dist-packages (from eli5) (3.1.2)\n",
            "Requirement already satisfied: attrs>17.1.0 in /usr/local/lib/python3.9/dist-packages (from eli5) (22.2.0)\n",
            "Requirement already satisfied: six in /usr/local/lib/python3.9/dist-packages (from eli5) (1.16.0)\n",
            "Requirement already satisfied: scikit-learn>=0.20 in /usr/local/lib/python3.9/dist-packages (from eli5) (1.2.2)\n",
            "Requirement already satisfied: scipy in /usr/local/lib/python3.9/dist-packages (from eli5) (1.10.1)\n",
            "Requirement already satisfied: numpy>=1.9.0 in /usr/local/lib/python3.9/dist-packages (from eli5) (1.22.4)\n",
            "Requirement already satisfied: tabulate>=0.7.7 in /usr/local/lib/python3.9/dist-packages (from eli5) (0.8.10)\n",
            "Requirement already satisfied: graphviz in /usr/local/lib/python3.9/dist-packages (from eli5) (0.20.1)\n",
            "Requirement already satisfied: MarkupSafe>=2.0 in /usr/local/lib/python3.9/dist-packages (from jinja2>=3.0.0->eli5) (2.1.2)\n",
            "Requirement already satisfied: threadpoolctl>=2.0.0 in /usr/local/lib/python3.9/dist-packages (from scikit-learn>=0.20->eli5) (3.1.0)\n",
            "Requirement already satisfied: joblib>=1.1.1 in /usr/local/lib/python3.9/dist-packages (from scikit-learn>=0.20->eli5) (1.2.0)\n"
          ]
        }
      ]
    },
    {
      "cell_type": "code",
      "source": [
        "import pandas as pd\n",
        "import numpy as np\n",
        "import seaborn as sns\n",
        "import matplotlib.pyplot as plt"
      ],
      "metadata": {
        "id": "ip_PyGFFcOdb"
      },
      "execution_count": 2,
      "outputs": []
    },
    {
      "cell_type": "code",
      "source": [
        "df = pd.read_csv(\"https://raw.githubusercontent.com/chanseon/section2_project/main/data/IMDB_data.csv\")\n",
        "df.head()"
      ],
      "metadata": {
        "id": "Xb9IoDUiuY8t",
        "colab": {
          "base_uri": "https://localhost:8080/",
          "height": 206
        },
        "outputId": "b72fc85c-2442-41c4-a861-00284930c414"
      },
      "execution_count": 3,
      "outputs": [
        {
          "output_type": "execute_result",
          "data": {
            "text/plain": [
              "   Unnamed: 0        movie_name  year  runtime     genre  rating      votes  \\\n",
              "0           0        Knives Out  2019  130 min  thriller     7.9   705622.0   \n",
              "1           1  The Hunger Games  2012  142 min  thriller     7.2   927499.0   \n",
              "2           2   The Dark Knight  2008  152 min  thriller     9.0  2675531.0   \n",
              "3           3         Inception  2010  148 min  thriller     8.8  2373682.0   \n",
              "4           4        Black Swan  2010  108 min  thriller     8.0   776577.0   \n",
              "\n",
              "   gross(in $)  \n",
              "0  165359751.0  \n",
              "1  408010692.0  \n",
              "2  534858444.0  \n",
              "3  292576195.0  \n",
              "4  106954678.0  "
            ],
            "text/html": [
              "\n",
              "  <div id=\"df-25a3828b-43c9-4390-bda2-f9f2768a433d\">\n",
              "    <div class=\"colab-df-container\">\n",
              "      <div>\n",
              "<style scoped>\n",
              "    .dataframe tbody tr th:only-of-type {\n",
              "        vertical-align: middle;\n",
              "    }\n",
              "\n",
              "    .dataframe tbody tr th {\n",
              "        vertical-align: top;\n",
              "    }\n",
              "\n",
              "    .dataframe thead th {\n",
              "        text-align: right;\n",
              "    }\n",
              "</style>\n",
              "<table border=\"1\" class=\"dataframe\">\n",
              "  <thead>\n",
              "    <tr style=\"text-align: right;\">\n",
              "      <th></th>\n",
              "      <th>Unnamed: 0</th>\n",
              "      <th>movie_name</th>\n",
              "      <th>year</th>\n",
              "      <th>runtime</th>\n",
              "      <th>genre</th>\n",
              "      <th>rating</th>\n",
              "      <th>votes</th>\n",
              "      <th>gross(in $)</th>\n",
              "    </tr>\n",
              "  </thead>\n",
              "  <tbody>\n",
              "    <tr>\n",
              "      <th>0</th>\n",
              "      <td>0</td>\n",
              "      <td>Knives Out</td>\n",
              "      <td>2019</td>\n",
              "      <td>130 min</td>\n",
              "      <td>thriller</td>\n",
              "      <td>7.9</td>\n",
              "      <td>705622.0</td>\n",
              "      <td>165359751.0</td>\n",
              "    </tr>\n",
              "    <tr>\n",
              "      <th>1</th>\n",
              "      <td>1</td>\n",
              "      <td>The Hunger Games</td>\n",
              "      <td>2012</td>\n",
              "      <td>142 min</td>\n",
              "      <td>thriller</td>\n",
              "      <td>7.2</td>\n",
              "      <td>927499.0</td>\n",
              "      <td>408010692.0</td>\n",
              "    </tr>\n",
              "    <tr>\n",
              "      <th>2</th>\n",
              "      <td>2</td>\n",
              "      <td>The Dark Knight</td>\n",
              "      <td>2008</td>\n",
              "      <td>152 min</td>\n",
              "      <td>thriller</td>\n",
              "      <td>9.0</td>\n",
              "      <td>2675531.0</td>\n",
              "      <td>534858444.0</td>\n",
              "    </tr>\n",
              "    <tr>\n",
              "      <th>3</th>\n",
              "      <td>3</td>\n",
              "      <td>Inception</td>\n",
              "      <td>2010</td>\n",
              "      <td>148 min</td>\n",
              "      <td>thriller</td>\n",
              "      <td>8.8</td>\n",
              "      <td>2373682.0</td>\n",
              "      <td>292576195.0</td>\n",
              "    </tr>\n",
              "    <tr>\n",
              "      <th>4</th>\n",
              "      <td>4</td>\n",
              "      <td>Black Swan</td>\n",
              "      <td>2010</td>\n",
              "      <td>108 min</td>\n",
              "      <td>thriller</td>\n",
              "      <td>8.0</td>\n",
              "      <td>776577.0</td>\n",
              "      <td>106954678.0</td>\n",
              "    </tr>\n",
              "  </tbody>\n",
              "</table>\n",
              "</div>\n",
              "      <button class=\"colab-df-convert\" onclick=\"convertToInteractive('df-25a3828b-43c9-4390-bda2-f9f2768a433d')\"\n",
              "              title=\"Convert this dataframe to an interactive table.\"\n",
              "              style=\"display:none;\">\n",
              "        \n",
              "  <svg xmlns=\"http://www.w3.org/2000/svg\" height=\"24px\"viewBox=\"0 0 24 24\"\n",
              "       width=\"24px\">\n",
              "    <path d=\"M0 0h24v24H0V0z\" fill=\"none\"/>\n",
              "    <path d=\"M18.56 5.44l.94 2.06.94-2.06 2.06-.94-2.06-.94-.94-2.06-.94 2.06-2.06.94zm-11 1L8.5 8.5l.94-2.06 2.06-.94-2.06-.94L8.5 2.5l-.94 2.06-2.06.94zm10 10l.94 2.06.94-2.06 2.06-.94-2.06-.94-.94-2.06-.94 2.06-2.06.94z\"/><path d=\"M17.41 7.96l-1.37-1.37c-.4-.4-.92-.59-1.43-.59-.52 0-1.04.2-1.43.59L10.3 9.45l-7.72 7.72c-.78.78-.78 2.05 0 2.83L4 21.41c.39.39.9.59 1.41.59.51 0 1.02-.2 1.41-.59l7.78-7.78 2.81-2.81c.8-.78.8-2.07 0-2.86zM5.41 20L4 18.59l7.72-7.72 1.47 1.35L5.41 20z\"/>\n",
              "  </svg>\n",
              "      </button>\n",
              "      \n",
              "  <style>\n",
              "    .colab-df-container {\n",
              "      display:flex;\n",
              "      flex-wrap:wrap;\n",
              "      gap: 12px;\n",
              "    }\n",
              "\n",
              "    .colab-df-convert {\n",
              "      background-color: #E8F0FE;\n",
              "      border: none;\n",
              "      border-radius: 50%;\n",
              "      cursor: pointer;\n",
              "      display: none;\n",
              "      fill: #1967D2;\n",
              "      height: 32px;\n",
              "      padding: 0 0 0 0;\n",
              "      width: 32px;\n",
              "    }\n",
              "\n",
              "    .colab-df-convert:hover {\n",
              "      background-color: #E2EBFA;\n",
              "      box-shadow: 0px 1px 2px rgba(60, 64, 67, 0.3), 0px 1px 3px 1px rgba(60, 64, 67, 0.15);\n",
              "      fill: #174EA6;\n",
              "    }\n",
              "\n",
              "    [theme=dark] .colab-df-convert {\n",
              "      background-color: #3B4455;\n",
              "      fill: #D2E3FC;\n",
              "    }\n",
              "\n",
              "    [theme=dark] .colab-df-convert:hover {\n",
              "      background-color: #434B5C;\n",
              "      box-shadow: 0px 1px 3px 1px rgba(0, 0, 0, 0.15);\n",
              "      filter: drop-shadow(0px 1px 2px rgba(0, 0, 0, 0.3));\n",
              "      fill: #FFFFFF;\n",
              "    }\n",
              "  </style>\n",
              "\n",
              "      <script>\n",
              "        const buttonEl =\n",
              "          document.querySelector('#df-25a3828b-43c9-4390-bda2-f9f2768a433d button.colab-df-convert');\n",
              "        buttonEl.style.display =\n",
              "          google.colab.kernel.accessAllowed ? 'block' : 'none';\n",
              "\n",
              "        async function convertToInteractive(key) {\n",
              "          const element = document.querySelector('#df-25a3828b-43c9-4390-bda2-f9f2768a433d');\n",
              "          const dataTable =\n",
              "            await google.colab.kernel.invokeFunction('convertToInteractive',\n",
              "                                                     [key], {});\n",
              "          if (!dataTable) return;\n",
              "\n",
              "          const docLinkHtml = 'Like what you see? Visit the ' +\n",
              "            '<a target=\"_blank\" href=https://colab.research.google.com/notebooks/data_table.ipynb>data table notebook</a>'\n",
              "            + ' to learn more about interactive tables.';\n",
              "          element.innerHTML = '';\n",
              "          dataTable['output_type'] = 'display_data';\n",
              "          await google.colab.output.renderOutput(dataTable, element);\n",
              "          const docLink = document.createElement('div');\n",
              "          docLink.innerHTML = docLinkHtml;\n",
              "          element.appendChild(docLink);\n",
              "        }\n",
              "      </script>\n",
              "    </div>\n",
              "  </div>\n",
              "  "
            ]
          },
          "metadata": {},
          "execution_count": 3
        }
      ]
    },
    {
      "cell_type": "markdown",
      "source": [
        "# 데이터 취합"
      ],
      "metadata": {
        "id": "JqeKuAP4t3IT"
      }
    },
    {
      "cell_type": "code",
      "execution_count": null,
      "metadata": {
        "id": "pil3hmOnWVw2"
      },
      "outputs": [],
      "source": [
        "df1 = pd.read_csv(\"https://raw.githubusercontent.com/chanseon/section2_project/main/data/thriller.csv\")\n",
        "df2 = pd.read_csv(\"https://raw.githubusercontent.com/chanseon/section2_project/main/data/action.csv\")\n",
        "df3 = pd.read_csv(\"https://raw.githubusercontent.com/chanseon/section2_project/main/data/crime.csv\")\n",
        "df4 = pd.read_csv(\"https://raw.githubusercontent.com/chanseon/section2_project/main/data/horror.csv\")\n",
        "df5 = pd.read_csv(\"https://raw.githubusercontent.com/chanseon/section2_project/main/data/adventure.csv\")\n",
        "df6 = pd.read_csv(\"https://raw.githubusercontent.com/chanseon/section2_project/main/data/mystery.csv\")\n",
        "df7 = pd.read_csv(\"https://raw.githubusercontent.com/chanseon/section2_project/main/data/family.csv\")\n",
        "df8 = pd.read_csv(\"https://raw.githubusercontent.com/chanseon/section2_project/main/data/fantasy.csv\")\n",
        "df9 = pd.read_csv(\"https://raw.githubusercontent.com/chanseon/section2_project/main/data/scifi.csv\")\n",
        "df10 = pd.read_csv(\"https://raw.githubusercontent.com/chanseon/section2_project/main/data/war.csv\")\n",
        "df11 = pd.read_csv(\"https://raw.githubusercontent.com/chanseon/section2_project/main/data/history.csv\")\n",
        "df12 = pd.read_csv(\"https://raw.githubusercontent.com/chanseon/section2_project/main/data/animation.csv\")\n",
        "df13 = pd.read_csv(\"https://raw.githubusercontent.com/chanseon/section2_project/main/data/biography.csv\")\n",
        "df14 = pd.read_csv(\"https://raw.githubusercontent.com/chanseon/section2_project/main/data/sports.csv\")\n",
        "df15 = pd.read_csv(\"https://raw.githubusercontent.com/chanseon/section2_project/main/data/film-noir.csv\")\n",
        "df16 = pd.read_csv(\"https://raw.githubusercontent.com/chanseon/section2_project/main/data/romance.csv\")\n"
      ]
    },
    {
      "cell_type": "code",
      "source": [
        "df_list = [df1,df2,df3,df4,df5,df6,df7,df8,df9,df10,df11,df12,df13,df14,df15,df16]\n",
        "lst = ['thriller','action','crime','horror','adventure','mystery','family','fantasy','scifi','war','history','animation','biography','sports','film_noir','romance']"
      ],
      "metadata": {
        "id": "r9BKqCzEcBYk"
      },
      "execution_count": null,
      "outputs": []
    },
    {
      "cell_type": "code",
      "source": [
        "for i in range(len(df1)):\n",
        "  df1['genre'][i] = lst[0]\n",
        "for i in range(len(df2)):\n",
        "  df2['genre'][i] = lst[1]\n",
        "for i in range(len(df3)):\n",
        "  df3['genre'][i] = lst[2]\n",
        "for i in range(len(df4)):\n",
        "  df4['genre'][i] = lst[3]\n",
        "for i in range(len(df5)):\n",
        "  df5['genre'][i] = lst[4]\n",
        "for i in range(len(df6)):\n",
        "  df6['genre'][i] = lst[5]\n",
        "for i in range(len(df7)):\n",
        "  df7['genre'][i] = lst[6]\n",
        "for i in range(len(df8)):\n",
        "  df8['genre'][i] = lst[7]\n",
        "for i in range(len(df9)):\n",
        "  df9['genre'][i] = lst[8]\n",
        "for i in range(len(df10)):\n",
        "  df10['genre'][i] = lst[9]\n",
        "for i in range(len(df11)):\n",
        "  df11['genre'][i] = lst[10]\n",
        "for i in range(len(df12)):\n",
        "  df12['genre'][i] = lst[11]\n",
        "for i in range(len(df13)):\n",
        "  df13['genre'][i] = lst[12]\n",
        "for i in range(len(df14)):\n",
        "  df14['genre'][i] = lst[13]\n",
        "for i in range(len(df15)):\n",
        "  df15['genre'][i] = lst[14]\n",
        "for i in range(len(df16)):\n",
        "  df16['genre'][i] = lst[15]"
      ],
      "metadata": {
        "colab": {
          "base_uri": "https://localhost:8080/",
          "height": 575
        },
        "id": "hekAsSLVoqR8",
        "outputId": "1da6f698-15ab-4f5f-d279-c789d9107445"
      },
      "execution_count": null,
      "outputs": [
        {
          "output_type": "stream",
          "name": "stderr",
          "text": [
            "<ipython-input-6-a373a6242af0>:2: SettingWithCopyWarning: \n",
            "A value is trying to be set on a copy of a slice from a DataFrame\n",
            "\n",
            "See the caveats in the documentation: https://pandas.pydata.org/pandas-docs/stable/user_guide/indexing.html#returning-a-view-versus-a-copy\n",
            "  df1['genre'][i] = lst[0]\n",
            "<ipython-input-6-a373a6242af0>:4: SettingWithCopyWarning: \n",
            "A value is trying to be set on a copy of a slice from a DataFrame\n",
            "\n",
            "See the caveats in the documentation: https://pandas.pydata.org/pandas-docs/stable/user_guide/indexing.html#returning-a-view-versus-a-copy\n",
            "  df2['genre'][i] = lst[1]\n"
          ]
        },
        {
          "output_type": "error",
          "ename": "KeyboardInterrupt",
          "evalue": "ignored",
          "traceback": [
            "\u001b[0;31m---------------------------------------------------------------------------\u001b[0m",
            "\u001b[0;31mKeyboardInterrupt\u001b[0m                         Traceback (most recent call last)",
            "\u001b[0;32m<ipython-input-6-a373a6242af0>\u001b[0m in \u001b[0;36m<cell line: 3>\u001b[0;34m()\u001b[0m\n\u001b[1;32m      2\u001b[0m   \u001b[0mdf1\u001b[0m\u001b[0;34m[\u001b[0m\u001b[0;34m'genre'\u001b[0m\u001b[0;34m]\u001b[0m\u001b[0;34m[\u001b[0m\u001b[0mi\u001b[0m\u001b[0;34m]\u001b[0m \u001b[0;34m=\u001b[0m \u001b[0mlst\u001b[0m\u001b[0;34m[\u001b[0m\u001b[0;36m0\u001b[0m\u001b[0;34m]\u001b[0m\u001b[0;34m\u001b[0m\u001b[0;34m\u001b[0m\u001b[0m\n\u001b[1;32m      3\u001b[0m \u001b[0;32mfor\u001b[0m \u001b[0mi\u001b[0m \u001b[0;32min\u001b[0m \u001b[0mrange\u001b[0m\u001b[0;34m(\u001b[0m\u001b[0mlen\u001b[0m\u001b[0;34m(\u001b[0m\u001b[0mdf2\u001b[0m\u001b[0;34m)\u001b[0m\u001b[0;34m)\u001b[0m\u001b[0;34m:\u001b[0m\u001b[0;34m\u001b[0m\u001b[0;34m\u001b[0m\u001b[0m\n\u001b[0;32m----> 4\u001b[0;31m   \u001b[0mdf2\u001b[0m\u001b[0;34m[\u001b[0m\u001b[0;34m'genre'\u001b[0m\u001b[0;34m]\u001b[0m\u001b[0;34m[\u001b[0m\u001b[0mi\u001b[0m\u001b[0;34m]\u001b[0m \u001b[0;34m=\u001b[0m \u001b[0mlst\u001b[0m\u001b[0;34m[\u001b[0m\u001b[0;36m1\u001b[0m\u001b[0;34m]\u001b[0m\u001b[0;34m\u001b[0m\u001b[0;34m\u001b[0m\u001b[0m\n\u001b[0m\u001b[1;32m      5\u001b[0m \u001b[0;32mfor\u001b[0m \u001b[0mi\u001b[0m \u001b[0;32min\u001b[0m \u001b[0mrange\u001b[0m\u001b[0;34m(\u001b[0m\u001b[0mlen\u001b[0m\u001b[0;34m(\u001b[0m\u001b[0mdf3\u001b[0m\u001b[0;34m)\u001b[0m\u001b[0;34m)\u001b[0m\u001b[0;34m:\u001b[0m\u001b[0;34m\u001b[0m\u001b[0;34m\u001b[0m\u001b[0m\n\u001b[1;32m      6\u001b[0m   \u001b[0mdf3\u001b[0m\u001b[0;34m[\u001b[0m\u001b[0;34m'genre'\u001b[0m\u001b[0;34m]\u001b[0m\u001b[0;34m[\u001b[0m\u001b[0mi\u001b[0m\u001b[0;34m]\u001b[0m \u001b[0;34m=\u001b[0m \u001b[0mlst\u001b[0m\u001b[0;34m[\u001b[0m\u001b[0;36m2\u001b[0m\u001b[0;34m]\u001b[0m\u001b[0;34m\u001b[0m\u001b[0;34m\u001b[0m\u001b[0m\n",
            "\u001b[0;32m/usr/local/lib/python3.9/dist-packages/pandas/core/series.py\u001b[0m in \u001b[0;36m__setitem__\u001b[0;34m(self, key, value)\u001b[0m\n\u001b[1;32m   1141\u001b[0m \u001b[0;34m\u001b[0m\u001b[0m\n\u001b[1;32m   1142\u001b[0m         \u001b[0;32mif\u001b[0m \u001b[0mcacher_needs_updating\u001b[0m\u001b[0;34m:\u001b[0m\u001b[0;34m\u001b[0m\u001b[0;34m\u001b[0m\u001b[0m\n\u001b[0;32m-> 1143\u001b[0;31m             \u001b[0mself\u001b[0m\u001b[0;34m.\u001b[0m\u001b[0m_maybe_update_cacher\u001b[0m\u001b[0;34m(\u001b[0m\u001b[0minplace\u001b[0m\u001b[0;34m=\u001b[0m\u001b[0;32mTrue\u001b[0m\u001b[0;34m)\u001b[0m\u001b[0;34m\u001b[0m\u001b[0;34m\u001b[0m\u001b[0m\n\u001b[0m\u001b[1;32m   1144\u001b[0m \u001b[0;34m\u001b[0m\u001b[0m\n\u001b[1;32m   1145\u001b[0m     \u001b[0;32mdef\u001b[0m \u001b[0m_set_with_engine\u001b[0m\u001b[0;34m(\u001b[0m\u001b[0mself\u001b[0m\u001b[0;34m,\u001b[0m \u001b[0mkey\u001b[0m\u001b[0;34m,\u001b[0m \u001b[0mvalue\u001b[0m\u001b[0;34m)\u001b[0m \u001b[0;34m->\u001b[0m \u001b[0;32mNone\u001b[0m\u001b[0;34m:\u001b[0m\u001b[0;34m\u001b[0m\u001b[0;34m\u001b[0m\u001b[0m\n",
            "\u001b[0;32m/usr/local/lib/python3.9/dist-packages/pandas/core/series.py\u001b[0m in \u001b[0;36m_maybe_update_cacher\u001b[0;34m(self, clear, verify_is_copy, inplace)\u001b[0m\n\u001b[1;32m   1277\u001b[0m                 \u001b[0;31m# to ensure column still in dataframe\u001b[0m\u001b[0;34m\u001b[0m\u001b[0;34m\u001b[0m\u001b[0m\n\u001b[1;32m   1278\u001b[0m                 \u001b[0;31m# otherwise, either self or ref has swapped in new arrays\u001b[0m\u001b[0;34m\u001b[0m\u001b[0;34m\u001b[0m\u001b[0m\n\u001b[0;32m-> 1279\u001b[0;31m                 \u001b[0mref\u001b[0m\u001b[0;34m.\u001b[0m\u001b[0m_maybe_cache_changed\u001b[0m\u001b[0;34m(\u001b[0m\u001b[0mcacher\u001b[0m\u001b[0;34m[\u001b[0m\u001b[0;36m0\u001b[0m\u001b[0;34m]\u001b[0m\u001b[0;34m,\u001b[0m \u001b[0mself\u001b[0m\u001b[0;34m,\u001b[0m \u001b[0minplace\u001b[0m\u001b[0;34m=\u001b[0m\u001b[0minplace\u001b[0m\u001b[0;34m)\u001b[0m\u001b[0;34m\u001b[0m\u001b[0;34m\u001b[0m\u001b[0m\n\u001b[0m\u001b[1;32m   1280\u001b[0m             \u001b[0;32melse\u001b[0m\u001b[0;34m:\u001b[0m\u001b[0;34m\u001b[0m\u001b[0;34m\u001b[0m\u001b[0m\n\u001b[1;32m   1281\u001b[0m                 \u001b[0;31m# GH#33675 we have swapped in a new array, so parent\u001b[0m\u001b[0;34m\u001b[0m\u001b[0;34m\u001b[0m\u001b[0m\n",
            "\u001b[0;32m/usr/local/lib/python3.9/dist-packages/pandas/core/frame.py\u001b[0m in \u001b[0;36m_maybe_cache_changed\u001b[0;34m(self, item, value, inplace)\u001b[0m\n\u001b[1;32m   3954\u001b[0m             \u001b[0;32mreturn\u001b[0m\u001b[0;34m\u001b[0m\u001b[0;34m\u001b[0m\u001b[0m\n\u001b[1;32m   3955\u001b[0m \u001b[0;34m\u001b[0m\u001b[0m\n\u001b[0;32m-> 3956\u001b[0;31m         \u001b[0mself\u001b[0m\u001b[0;34m.\u001b[0m\u001b[0m_mgr\u001b[0m\u001b[0;34m.\u001b[0m\u001b[0miset\u001b[0m\u001b[0;34m(\u001b[0m\u001b[0mloc\u001b[0m\u001b[0;34m,\u001b[0m \u001b[0marraylike\u001b[0m\u001b[0;34m,\u001b[0m \u001b[0minplace\u001b[0m\u001b[0;34m=\u001b[0m\u001b[0minplace\u001b[0m\u001b[0;34m)\u001b[0m\u001b[0;34m\u001b[0m\u001b[0;34m\u001b[0m\u001b[0m\n\u001b[0m\u001b[1;32m   3957\u001b[0m \u001b[0;34m\u001b[0m\u001b[0m\n\u001b[1;32m   3958\u001b[0m     \u001b[0;31m# ----------------------------------------------------------------------\u001b[0m\u001b[0;34m\u001b[0m\u001b[0;34m\u001b[0m\u001b[0m\n",
            "\u001b[0;32m/usr/local/lib/python3.9/dist-packages/pandas/core/internals/managers.py\u001b[0m in \u001b[0;36miset\u001b[0;34m(self, loc, value, inplace)\u001b[0m\n\u001b[1;32m   1140\u001b[0m             \u001b[0mblk_locs\u001b[0m \u001b[0;34m=\u001b[0m \u001b[0mblklocs\u001b[0m\u001b[0;34m[\u001b[0m\u001b[0mval_locs\u001b[0m\u001b[0;34m.\u001b[0m\u001b[0mindexer\u001b[0m\u001b[0;34m]\u001b[0m\u001b[0;34m\u001b[0m\u001b[0;34m\u001b[0m\u001b[0m\n\u001b[1;32m   1141\u001b[0m             \u001b[0;32mif\u001b[0m \u001b[0minplace\u001b[0m \u001b[0;32mand\u001b[0m \u001b[0mblk\u001b[0m\u001b[0;34m.\u001b[0m\u001b[0mshould_store\u001b[0m\u001b[0;34m(\u001b[0m\u001b[0mvalue\u001b[0m\u001b[0;34m)\u001b[0m\u001b[0;34m:\u001b[0m\u001b[0;34m\u001b[0m\u001b[0;34m\u001b[0m\u001b[0m\n\u001b[0;32m-> 1142\u001b[0;31m                 \u001b[0mblk\u001b[0m\u001b[0;34m.\u001b[0m\u001b[0mset_inplace\u001b[0m\u001b[0;34m(\u001b[0m\u001b[0mblk_locs\u001b[0m\u001b[0;34m,\u001b[0m \u001b[0mvalue_getitem\u001b[0m\u001b[0;34m(\u001b[0m\u001b[0mval_locs\u001b[0m\u001b[0;34m)\u001b[0m\u001b[0;34m)\u001b[0m\u001b[0;34m\u001b[0m\u001b[0;34m\u001b[0m\u001b[0m\n\u001b[0m\u001b[1;32m   1143\u001b[0m             \u001b[0;32melse\u001b[0m\u001b[0;34m:\u001b[0m\u001b[0;34m\u001b[0m\u001b[0;34m\u001b[0m\u001b[0m\n\u001b[1;32m   1144\u001b[0m                 \u001b[0munfit_mgr_locs\u001b[0m\u001b[0;34m.\u001b[0m\u001b[0mappend\u001b[0m\u001b[0;34m(\u001b[0m\u001b[0mblk\u001b[0m\u001b[0;34m.\u001b[0m\u001b[0mmgr_locs\u001b[0m\u001b[0;34m.\u001b[0m\u001b[0mas_array\u001b[0m\u001b[0;34m[\u001b[0m\u001b[0mblk_locs\u001b[0m\u001b[0;34m]\u001b[0m\u001b[0;34m)\u001b[0m\u001b[0;34m\u001b[0m\u001b[0;34m\u001b[0m\u001b[0m\n",
            "\u001b[0;32m/usr/local/lib/python3.9/dist-packages/pandas/core/internals/blocks.py\u001b[0m in \u001b[0;36mset_inplace\u001b[0;34m(self, locs, values)\u001b[0m\n\u001b[1;32m    374\u001b[0m         \u001b[0mcreate\u001b[0m \u001b[0ma\u001b[0m \u001b[0mnew\u001b[0m \u001b[0marray\u001b[0m \u001b[0;32mand\u001b[0m \u001b[0malways\u001b[0m \u001b[0mcreates\u001b[0m \u001b[0ma\u001b[0m \u001b[0mnew\u001b[0m \u001b[0mBlock\u001b[0m\u001b[0;34m.\u001b[0m\u001b[0;34m\u001b[0m\u001b[0;34m\u001b[0m\u001b[0m\n\u001b[1;32m    375\u001b[0m         \"\"\"\n\u001b[0;32m--> 376\u001b[0;31m         \u001b[0mself\u001b[0m\u001b[0;34m.\u001b[0m\u001b[0mvalues\u001b[0m\u001b[0;34m[\u001b[0m\u001b[0mlocs\u001b[0m\u001b[0;34m]\u001b[0m \u001b[0;34m=\u001b[0m \u001b[0mvalues\u001b[0m\u001b[0;34m\u001b[0m\u001b[0;34m\u001b[0m\u001b[0m\n\u001b[0m\u001b[1;32m    377\u001b[0m \u001b[0;34m\u001b[0m\u001b[0m\n\u001b[1;32m    378\u001b[0m     \u001b[0;32mdef\u001b[0m \u001b[0mdelete\u001b[0m\u001b[0;34m(\u001b[0m\u001b[0mself\u001b[0m\u001b[0;34m,\u001b[0m \u001b[0mloc\u001b[0m\u001b[0;34m)\u001b[0m \u001b[0;34m->\u001b[0m \u001b[0;32mNone\u001b[0m\u001b[0;34m:\u001b[0m\u001b[0;34m\u001b[0m\u001b[0;34m\u001b[0m\u001b[0m\n",
            "\u001b[0;31mKeyboardInterrupt\u001b[0m: "
          ]
        }
      ]
    },
    {
      "cell_type": "code",
      "source": [
        "def dropping(df):\n",
        "  df.drop(['movie_id','certificate','description','director_id','star','director','star_id'],axis=1,inplace=True)\n",
        "  df.dropna(subset=['gross(in $)'],how='any',axis=0,inplace=True)\n",
        "  return df\n",
        "\n",
        "#해당 필요없는 내용들을 지우고, gross가 NAN인 애들은 전부 드랍하여 업데이트\n",
        "for i in df_list:\n",
        "  dropping(i)"
      ],
      "metadata": {
        "id": "Ig8uUF8115eW"
      },
      "execution_count": null,
      "outputs": []
    },
    {
      "cell_type": "code",
      "source": [
        "df_main =  pd.concat(df_list)\n",
        "df =df_main.reset_index(drop=True)"
      ],
      "metadata": {
        "id": "9AvL9bTauG06"
      },
      "execution_count": null,
      "outputs": []
    },
    {
      "cell_type": "markdown",
      "source": [
        "# EDA"
      ],
      "metadata": {
        "id": "z6qFsmaOS0nx"
      }
    },
    {
      "cell_type": "code",
      "source": [
        "df.loc[:,'gross'] = df.loc[:,'gross(in $)']\n",
        "df.drop('gross(in $)',axis=1,inplace=True)"
      ],
      "metadata": {
        "id": "ieCQnkpaST4D"
      },
      "execution_count": 4,
      "outputs": []
    },
    {
      "cell_type": "code",
      "source": [
        "df.isnull().sum()"
      ],
      "metadata": {
        "colab": {
          "base_uri": "https://localhost:8080/"
        },
        "id": "GE-tGjFhWOJV",
        "outputId": "f8cf3502-ca39-4dab-f0fe-714792d949fd"
      },
      "execution_count": 5,
      "outputs": [
        {
          "output_type": "execute_result",
          "data": {
            "text/plain": [
              "Unnamed: 0     0\n",
              "movie_name     0\n",
              "year           0\n",
              "runtime       12\n",
              "genre          0\n",
              "rating         0\n",
              "votes          0\n",
              "gross          0\n",
              "dtype: int64"
            ]
          },
          "metadata": {},
          "execution_count": 5
        }
      ]
    },
    {
      "cell_type": "code",
      "source": [
        "df.info()"
      ],
      "metadata": {
        "colab": {
          "base_uri": "https://localhost:8080/"
        },
        "id": "vqzoUvIAShFz",
        "outputId": "952358b8-4bfa-46a4-c247-c5a03418a679"
      },
      "execution_count": 6,
      "outputs": [
        {
          "output_type": "stream",
          "name": "stdout",
          "text": [
            "<class 'pandas.core.frame.DataFrame'>\n",
            "RangeIndex: 25039 entries, 0 to 25038\n",
            "Data columns (total 8 columns):\n",
            " #   Column      Non-Null Count  Dtype  \n",
            "---  ------      --------------  -----  \n",
            " 0   Unnamed: 0  25039 non-null  int64  \n",
            " 1   movie_name  25039 non-null  object \n",
            " 2   year        25039 non-null  int64  \n",
            " 3   runtime     25027 non-null  object \n",
            " 4   genre       25039 non-null  object \n",
            " 5   rating      25039 non-null  float64\n",
            " 6   votes       25039 non-null  float64\n",
            " 7   gross       25039 non-null  float64\n",
            "dtypes: float64(3), int64(2), object(3)\n",
            "memory usage: 1.5+ MB\n"
          ]
        }
      ]
    },
    {
      "cell_type": "markdown",
      "source": [
        "###### 연도 전처리"
      ],
      "metadata": {
        "id": "zTbOAWrQ3fW-"
      }
    },
    {
      "cell_type": "code",
      "source": [
        "df.info()"
      ],
      "metadata": {
        "colab": {
          "base_uri": "https://localhost:8080/"
        },
        "id": "PSC0Tom0zN_c",
        "outputId": "a816a41b-0196-4c60-b14b-2827e4d500e1"
      },
      "execution_count": 7,
      "outputs": [
        {
          "output_type": "stream",
          "name": "stdout",
          "text": [
            "<class 'pandas.core.frame.DataFrame'>\n",
            "RangeIndex: 25039 entries, 0 to 25038\n",
            "Data columns (total 8 columns):\n",
            " #   Column      Non-Null Count  Dtype  \n",
            "---  ------      --------------  -----  \n",
            " 0   Unnamed: 0  25039 non-null  int64  \n",
            " 1   movie_name  25039 non-null  object \n",
            " 2   year        25039 non-null  int64  \n",
            " 3   runtime     25027 non-null  object \n",
            " 4   genre       25039 non-null  object \n",
            " 5   rating      25039 non-null  float64\n",
            " 6   votes       25039 non-null  float64\n",
            " 7   gross       25039 non-null  float64\n",
            "dtypes: float64(3), int64(2), object(3)\n",
            "memory usage: 1.5+ MB\n"
          ]
        }
      ]
    },
    {
      "cell_type": "code",
      "source": [
        "df.drop(\"Unnamed: 0\",inplace=True,axis=1)"
      ],
      "metadata": {
        "id": "Zm3fzLCMw0PG"
      },
      "execution_count": 8,
      "outputs": []
    },
    {
      "cell_type": "code",
      "source": [
        "df.duplicated().sum()"
      ],
      "metadata": {
        "colab": {
          "base_uri": "https://localhost:8080/"
        },
        "id": "58daJypz60gl",
        "outputId": "fa0b2b24-a1cf-4df6-fc55-60188eb1e077"
      },
      "execution_count": 9,
      "outputs": [
        {
          "output_type": "execute_result",
          "data": {
            "text/plain": [
              "0"
            ]
          },
          "metadata": {},
          "execution_count": 9
        }
      ]
    },
    {
      "cell_type": "code",
      "source": [
        "#연도별 분포 시각화\n",
        "plt.bar(df.year.value_counts().index,height=df.year.value_counts())"
      ],
      "metadata": {
        "colab": {
          "base_uri": "https://localhost:8080/",
          "height": 0
        },
        "id": "43yj8MmEFZem",
        "outputId": "d3f7841e-fcfc-4a71-f59e-ca9acf0c69e6"
      },
      "execution_count": 10,
      "outputs": [
        {
          "output_type": "execute_result",
          "data": {
            "text/plain": [
              "<BarContainer object of 109 artists>"
            ]
          },
          "metadata": {},
          "execution_count": 10
        },
        {
          "output_type": "display_data",
          "data": {
            "text/plain": [
              "<Figure size 640x480 with 1 Axes>"
            ],
            "image/png": "[encoded data removed]"
          },
          "metadata": {}
        }
      ]
    },
    {
      "cell_type": "code",
      "source": [
        "df.year = df.year.astype(int)\n",
        "df[df.year >= 2000]"
      ],
      "metadata": {
        "colab": {
          "base_uri": "https://localhost:8080/",
          "height": 0
        },
        "id": "ctW4xQxWHCmM",
        "outputId": "3e2bdc18-a6a0-405b-db9d-c891b631d5d6"
      },
      "execution_count": 11,
      "outputs": [
        {
          "output_type": "execute_result",
          "data": {
            "text/plain": [
              "                 movie_name  year  runtime     genre  rating      votes  \\\n",
              "0                Knives Out  2019  130 min  thriller     7.9   705622.0   \n",
              "1          The Hunger Games  2012  142 min  thriller     7.2   927499.0   \n",
              "2           The Dark Knight  2008  152 min  thriller     9.0  2675531.0   \n",
              "3                 Inception  2010  148 min  thriller     8.8  2373682.0   \n",
              "4                Black Swan  2010  108 min  thriller     8.0   776577.0   \n",
              "...                     ...   ...      ...       ...     ...        ...   \n",
              "25029          Love Me True  2015   88 min   romance     5.2       43.0   \n",
              "25030         Le grand rôle  2004   89 min   romance     5.6      175.0   \n",
              "25036      True Love Zombie  2012   86 min   romance     4.4       46.0   \n",
              "25037        Far from India  2003  101 min   romance     6.5       30.0   \n",
              "25038  Ethereal Everlasting  2011   90 min   romance     7.2       16.0   \n",
              "\n",
              "             gross  \n",
              "0      165359751.0  \n",
              "1      408010692.0  \n",
              "2      534858444.0  \n",
              "3      292576195.0  \n",
              "4      106954678.0  \n",
              "...            ...  \n",
              "25029      19887.0  \n",
              "25030      35555.0  \n",
              "25036        100.0  \n",
              "25037       8500.0  \n",
              "25038      69155.0  \n",
              "\n",
              "[14568 rows x 7 columns]"
            ],
            "text/html": [
              "\n",
              "  <div id=\"df-f2dcdea1-47af-4b0b-9905-1e4e146c6065\">\n",
              "    <div class=\"colab-df-container\">\n",
              "      <div>\n",
              "<style scoped>\n",
              "    .dataframe tbody tr th:only-of-type {\n",
              "        vertical-align: middle;\n",
              "    }\n",
              "\n",
              "    .dataframe tbody tr th {\n",
              "        vertical-align: top;\n",
              "    }\n",
              "\n",
              "    .dataframe thead th {\n",
              "        text-align: right;\n",
              "    }\n",
              "</style>\n",
              "<table border=\"1\" class=\"dataframe\">\n",
              "  <thead>\n",
              "    <tr style=\"text-align: right;\">\n",
              "      <th></th>\n",
              "      <th>movie_name</th>\n",
              "      <th>year</th>\n",
              "      <th>runtime</th>\n",
              "      <th>genre</th>\n",
              "      <th>rating</th>\n",
              "      <th>votes</th>\n",
              "      <th>gross</th>\n",
              "    </tr>\n",
              "  </thead>\n",
              "  <tbody>\n",
              "    <tr>\n",
              "      <th>0</th>\n",
              "      <td>Knives Out</td>\n",
              "      <td>2019</td>\n",
              "      <td>130 min</td>\n",
              "      <td>thriller</td>\n",
              "      <td>7.9</td>\n",
              "      <td>705622.0</td>\n",
              "      <td>165359751.0</td>\n",
              "    </tr>\n",
              "    <tr>\n",
              "      <th>1</th>\n",
              "      <td>The Hunger Games</td>\n",
              "      <td>2012</td>\n",
              "      <td>142 min</td>\n",
              "      <td>thriller</td>\n",
              "      <td>7.2</td>\n",
              "      <td>927499.0</td>\n",
              "      <td>408010692.0</td>\n",
              "    </tr>\n",
              "    <tr>\n",
              "      <th>2</th>\n",
              "      <td>The Dark Knight</td>\n",
              "      <td>2008</td>\n",
              "      <td>152 min</td>\n",
              "      <td>thriller</td>\n",
              "      <td>9.0</td>\n",
              "      <td>2675531.0</td>\n",
              "      <td>534858444.0</td>\n",
              "    </tr>\n",
              "    <tr>\n",
              "      <th>3</th>\n",
              "      <td>Inception</td>\n",
              "      <td>2010</td>\n",
              "      <td>148 min</td>\n",
              "      <td>thriller</td>\n",
              "      <td>8.8</td>\n",
              "      <td>2373682.0</td>\n",
              "      <td>292576195.0</td>\n",
              "    </tr>\n",
              "    <tr>\n",
              "      <th>4</th>\n",
              "      <td>Black Swan</td>\n",
              "      <td>2010</td>\n",
              "      <td>108 min</td>\n",
              "      <td>thriller</td>\n",
              "      <td>8.0</td>\n",
              "      <td>776577.0</td>\n",
              "      <td>106954678.0</td>\n",
              "    </tr>\n",
              "    <tr>\n",
              "      <th>...</th>\n",
              "      <td>...</td>\n",
              "      <td>...</td>\n",
              "      <td>...</td>\n",
              "      <td>...</td>\n",
              "      <td>...</td>\n",
              "      <td>...</td>\n",
              "      <td>...</td>\n",
              "    </tr>\n",
              "    <tr>\n",
              "      <th>25029</th>\n",
              "      <td>Love Me True</td>\n",
              "      <td>2015</td>\n",
              "      <td>88 min</td>\n",
              "      <td>romance</td>\n",
              "      <td>5.2</td>\n",
              "      <td>43.0</td>\n",
              "      <td>19887.0</td>\n",
              "    </tr>\n",
              "    <tr>\n",
              "      <th>25030</th>\n",
              "      <td>Le grand rôle</td>\n",
              "      <td>2004</td>\n",
              "      <td>89 min</td>\n",
              "      <td>romance</td>\n",
              "      <td>5.6</td>\n",
              "      <td>175.0</td>\n",
              "      <td>35555.0</td>\n",
              "    </tr>\n",
              "    <tr>\n",
              "      <th>25036</th>\n",
              "      <td>True Love Zombie</td>\n",
              "      <td>2012</td>\n",
              "      <td>86 min</td>\n",
              "      <td>romance</td>\n",
              "      <td>4.4</td>\n",
              "      <td>46.0</td>\n",
              "      <td>100.0</td>\n",
              "    </tr>\n",
              "    <tr>\n",
              "      <th>25037</th>\n",
              "      <td>Far from India</td>\n",
              "      <td>2003</td>\n",
              "      <td>101 min</td>\n",
              "      <td>romance</td>\n",
              "      <td>6.5</td>\n",
              "      <td>30.0</td>\n",
              "      <td>8500.0</td>\n",
              "    </tr>\n",
              "    <tr>\n",
              "      <th>25038</th>\n",
              "      <td>Ethereal Everlasting</td>\n",
              "      <td>2011</td>\n",
              "      <td>90 min</td>\n",
              "      <td>romance</td>\n",
              "      <td>7.2</td>\n",
              "      <td>16.0</td>\n",
              "      <td>69155.0</td>\n",
              "    </tr>\n",
              "  </tbody>\n",
              "</table>\n",
              "<p>14568 rows × 7 columns</p>\n",
              "</div>\n",
              "      <button class=\"colab-df-convert\" onclick=\"convertToInteractive('df-f2dcdea1-47af-4b0b-9905-1e4e146c6065')\"\n",
              "              title=\"Convert this dataframe to an interactive table.\"\n",
              "              style=\"display:none;\">\n",
              "        \n",
              "  <svg xmlns=\"http://www.w3.org/2000/svg\" height=\"24px\"viewBox=\"0 0 24 24\"\n",
              "       width=\"24px\">\n",
              "    <path d=\"M0 0h24v24H0V0z\" fill=\"none\"/>\n",
              "    <path d=\"M18.56 5.44l.94 2.06.94-2.06 2.06-.94-2.06-.94-.94-2.06-.94 2.06-2.06.94zm-11 1L8.5 8.5l.94-2.06 2.06-.94-2.06-.94L8.5 2.5l-.94 2.06-2.06.94zm10 10l.94 2.06.94-2.06 2.06-.94-2.06-.94-.94-2.06-.94 2.06-2.06.94z\"/><path d=\"M17.41 7.96l-1.37-1.37c-.4-.4-.92-.59-1.43-.59-.52 0-1.04.2-1.43.59L10.3 9.45l-7.72 7.72c-.78.78-.78 2.05 0 2.83L4 21.41c.39.39.9.59 1.41.59.51 0 1.02-.2 1.41-.59l7.78-7.78 2.81-2.81c.8-.78.8-2.07 0-2.86zM5.41 20L4 18.59l7.72-7.72 1.47 1.35L5.41 20z\"/>\n",
              "  </svg>\n",
              "      </button>\n",
              "      \n",
              "  <style>\n",
              "    .colab-df-container {\n",
              "      display:flex;\n",
              "      flex-wrap:wrap;\n",
              "      gap: 12px;\n",
              "    }\n",
              "\n",
              "    .colab-df-convert {\n",
              "      background-color: #E8F0FE;\n",
              "      border: none;\n",
              "      border-radius: 50%;\n",
              "      cursor: pointer;\n",
              "      display: none;\n",
              "      fill: #1967D2;\n",
              "      height: 32px;\n",
              "      padding: 0 0 0 0;\n",
              "      width: 32px;\n",
              "    }\n",
              "\n",
              "    .colab-df-convert:hover {\n",
              "      background-color: #E2EBFA;\n",
              "      box-shadow: 0px 1px 2px rgba(60, 64, 67, 0.3), 0px 1px 3px 1px rgba(60, 64, 67, 0.15);\n",
              "      fill: #174EA6;\n",
              "    }\n",
              "\n",
              "    [theme=dark] .colab-df-convert {\n",
              "      background-color: #3B4455;\n",
              "      fill: #D2E3FC;\n",
              "    }\n",
              "\n",
              "    [theme=dark] .colab-df-convert:hover {\n",
              "      background-color: #434B5C;\n",
              "      box-shadow: 0px 1px 3px 1px rgba(0, 0, 0, 0.15);\n",
              "      filter: drop-shadow(0px 1px 2px rgba(0, 0, 0, 0.3));\n",
              "      fill: #FFFFFF;\n",
              "    }\n",
              "  </style>\n",
              "\n",
              "      <script>\n",
              "        const buttonEl =\n",
              "          document.querySelector('#df-f2dcdea1-47af-4b0b-9905-1e4e146c6065 button.colab-df-convert');\n",
              "        buttonEl.style.display =\n",
              "          google.colab.kernel.accessAllowed ? 'block' : 'none';\n",
              "\n",
              "        async function convertToInteractive(key) {\n",
              "          const element = document.querySelector('#df-f2dcdea1-47af-4b0b-9905-1e4e146c6065');\n",
              "          const dataTable =\n",
              "            await google.colab.kernel.invokeFunction('convertToInteractive',\n",
              "                                                     [key], {});\n",
              "          if (!dataTable) return;\n",
              "\n",
              "          const docLinkHtml = 'Like what you see? Visit the ' +\n",
              "            '<a target=\"_blank\" href=https://colab.research.google.com/notebooks/data_table.ipynb>data table notebook</a>'\n",
              "            + ' to learn more about interactive tables.';\n",
              "          element.innerHTML = '';\n",
              "          dataTable['output_type'] = 'display_data';\n",
              "          await google.colab.output.renderOutput(dataTable, element);\n",
              "          const docLink = document.createElement('div');\n",
              "          docLink.innerHTML = docLinkHtml;\n",
              "          element.appendChild(docLink);\n",
              "        }\n",
              "      </script>\n",
              "    </div>\n",
              "  </div>\n",
              "  "
            ]
          },
          "metadata": {},
          "execution_count": 11
        }
      ]
    },
    {
      "cell_type": "code",
      "source": [
        "#2000년도 이상인 애들만 모아서 정리\n",
        "#df = df[df.year >= 2000].reset_index(drop=True)\n",
        "#df"
      ],
      "metadata": {
        "id": "lAz2o8riD_VV"
      },
      "execution_count": 12,
      "outputs": []
    },
    {
      "cell_type": "markdown",
      "source": [
        "##### 런타임 전처리 (1차에서는 미적용)\n",
        "-> 모델에 적용할 때 혹시 문제가 된다면 짧은 김 너무김으로 해보자"
      ],
      "metadata": {
        "id": "2AaXyxkC4JDh"
      }
    },
    {
      "cell_type": "code",
      "source": [
        "#런타임 nan값 제거\n",
        "bye_runtime = list(df.runtime[df.runtime.isna()].index)\n",
        "df.drop(bye_runtime,axis=0,inplace=True)\n",
        "#runtime을 int로 변환 작업\n",
        "df.runtime = df.runtime.str.replace('min','').astype(int)"
      ],
      "metadata": {
        "id": "SFoDrVQzTeFS"
      },
      "execution_count": 13,
      "outputs": []
    },
    {
      "cell_type": "code",
      "source": [
        "#runtime 분포 시각화\n",
        "plt.bar(df.runtime.value_counts().index,height=df.runtime.value_counts().values)"
      ],
      "metadata": {
        "colab": {
          "base_uri": "https://localhost:8080/",
          "height": 0
        },
        "id": "Kn_-B2gY3c9C",
        "outputId": "4b1ee49c-cab9-49f7-8222-2535beafdc14"
      },
      "execution_count": 14,
      "outputs": [
        {
          "output_type": "execute_result",
          "data": {
            "text/plain": [
              "<BarContainer object of 174 artists>"
            ]
          },
          "metadata": {},
          "execution_count": 14
        },
        {
          "output_type": "display_data",
          "data": {
            "text/plain": [
              "<Figure size 640x480 with 1 Axes>"
            ],
            "image/png": "[encoded data removed]"
          },
          "metadata": {}
        }
      ]
    },
    {
      "cell_type": "code",
      "source": [
        "#250시간 이상으로 있는 애들이 있음 -> 확인\n",
        "df[df.runtime >250]"
      ],
      "metadata": {
        "colab": {
          "base_uri": "https://localhost:8080/",
          "height": 0
        },
        "id": "cKyvUpc6PK-i",
        "outputId": "926931bd-60cb-46fa-950a-73d49c4ff244"
      },
      "execution_count": 15,
      "outputs": [
        {
          "output_type": "execute_result",
          "data": {
            "text/plain": [
              "                         movie_name  year  runtime      genre  rating  \\\n",
              "3054                        La Flor  2018      808   thriller     7.4   \n",
              "3526      The Weathered Underground  2010      310   thriller     6.2   \n",
              "6296      The Weathered Underground  2010      310     action     6.2   \n",
              "12367     The Weathered Underground  2010      310  adventure     6.2   \n",
              "13481                         Out 1  1971      776    mystery     7.5   \n",
              "13571                       La Flor  2018      808    mystery     7.4   \n",
              "16256                       La Flor  2018      808    fantasy     7.4   \n",
              "16410     The Weathered Underground  2010      310    fantasy     6.2   \n",
              "17735                    Gettysburg  1993      271        war     7.6   \n",
              "17879                 War and Peace  1965      453        war     8.3   \n",
              "18419                    Gettysburg  1993      271    history     7.6   \n",
              "18524  The Greatest Story Ever Told  1965      260    history     6.5   \n",
              "19823  The Greatest Story Ever Told  1965      260  biography     6.5   \n",
              "22265                 War and Peace  1965      453    romance     8.3   \n",
              "22443             The Best of Youth  2003      366    romance     8.5   \n",
              "23776                 Little Dorrit  1987      357    romance     7.2   \n",
              "24141                       La Flor  2018      808    romance     7.4   \n",
              "\n",
              "         votes       gross  \n",
              "3054     743.0      4032.0  \n",
              "3526      62.0    137405.0  \n",
              "6296      62.0    137405.0  \n",
              "12367     62.0    137405.0  \n",
              "13481   1418.0     31539.0  \n",
              "13571    743.0      4032.0  \n",
              "16256    743.0      4032.0  \n",
              "16410     62.0    137405.0  \n",
              "17735  29791.0  10769960.0  \n",
              "17879   7617.0    134686.0  \n",
              "18419  29791.0  10769960.0  \n",
              "18524  10785.0  15473333.0  \n",
              "19823  10825.0  15473333.0  \n",
              "22265   7653.0    134686.0  \n",
              "22443  22431.0    274024.0  \n",
              "23776   1175.0   1025228.0  \n",
              "24141    746.0      4032.0  "
            ],
            "text/html": [
              "\n",
              "  <div id=\"df-2a68095d-57d8-4ec9-bf93-73c75df5ab9a\">\n",
              "    <div class=\"colab-df-container\">\n",
              "      <div>\n",
              "<style scoped>\n",
              "    .dataframe tbody tr th:only-of-type {\n",
              "        vertical-align: middle;\n",
              "    }\n",
              "\n",
              "    .dataframe tbody tr th {\n",
              "        vertical-align: top;\n",
              "    }\n",
              "\n",
              "    .dataframe thead th {\n",
              "        text-align: right;\n",
              "    }\n",
              "</style>\n",
              "<table border=\"1\" class=\"dataframe\">\n",
              "  <thead>\n",
              "    <tr style=\"text-align: right;\">\n",
              "      <th></th>\n",
              "      <th>movie_name</th>\n",
              "      <th>year</th>\n",
              "      <th>runtime</th>\n",
              "      <th>genre</th>\n",
              "      <th>rating</th>\n",
              "      <th>votes</th>\n",
              "      <th>gross</th>\n",
              "    </tr>\n",
              "  </thead>\n",
              "  <tbody>\n",
              "    <tr>\n",
              "      <th>3054</th>\n",
              "      <td>La Flor</td>\n",
              "      <td>2018</td>\n",
              "      <td>808</td>\n",
              "      <td>thriller</td>\n",
              "      <td>7.4</td>\n",
              "      <td>743.0</td>\n",
              "      <td>4032.0</td>\n",
              "    </tr>\n",
              "    <tr>\n",
              "      <th>3526</th>\n",
              "      <td>The Weathered Underground</td>\n",
              "      <td>2010</td>\n",
              "      <td>310</td>\n",
              "      <td>thriller</td>\n",
              "      <td>6.2</td>\n",
              "      <td>62.0</td>\n",
              "      <td>137405.0</td>\n",
              "    </tr>\n",
              "    <tr>\n",
              "      <th>6296</th>\n",
              "      <td>The Weathered Underground</td>\n",
              "      <td>2010</td>\n",
              "      <td>310</td>\n",
              "      <td>action</td>\n",
              "      <td>6.2</td>\n",
              "      <td>62.0</td>\n",
              "      <td>137405.0</td>\n",
              "    </tr>\n",
              "    <tr>\n",
              "      <th>12367</th>\n",
              "      <td>The Weathered Underground</td>\n",
              "      <td>2010</td>\n",
              "      <td>310</td>\n",
              "      <td>adventure</td>\n",
              "      <td>6.2</td>\n",
              "      <td>62.0</td>\n",
              "      <td>137405.0</td>\n",
              "    </tr>\n",
              "    <tr>\n",
              "      <th>13481</th>\n",
              "      <td>Out 1</td>\n",
              "      <td>1971</td>\n",
              "      <td>776</td>\n",
              "      <td>mystery</td>\n",
              "      <td>7.5</td>\n",
              "      <td>1418.0</td>\n",
              "      <td>31539.0</td>\n",
              "    </tr>\n",
              "    <tr>\n",
              "      <th>13571</th>\n",
              "      <td>La Flor</td>\n",
              "      <td>2018</td>\n",
              "      <td>808</td>\n",
              "      <td>mystery</td>\n",
              "      <td>7.4</td>\n",
              "      <td>743.0</td>\n",
              "      <td>4032.0</td>\n",
              "    </tr>\n",
              "    <tr>\n",
              "      <th>16256</th>\n",
              "      <td>La Flor</td>\n",
              "      <td>2018</td>\n",
              "      <td>808</td>\n",
              "      <td>fantasy</td>\n",
              "      <td>7.4</td>\n",
              "      <td>743.0</td>\n",
              "      <td>4032.0</td>\n",
              "    </tr>\n",
              "    <tr>\n",
              "      <th>16410</th>\n",
              "      <td>The Weathered Underground</td>\n",
              "      <td>2010</td>\n",
              "      <td>310</td>\n",
              "      <td>fantasy</td>\n",
              "      <td>6.2</td>\n",
              "      <td>62.0</td>\n",
              "      <td>137405.0</td>\n",
              "    </tr>\n",
              "    <tr>\n",
              "      <th>17735</th>\n",
              "      <td>Gettysburg</td>\n",
              "      <td>1993</td>\n",
              "      <td>271</td>\n",
              "      <td>war</td>\n",
              "      <td>7.6</td>\n",
              "      <td>29791.0</td>\n",
              "      <td>10769960.0</td>\n",
              "    </tr>\n",
              "    <tr>\n",
              "      <th>17879</th>\n",
              "      <td>War and Peace</td>\n",
              "      <td>1965</td>\n",
              "      <td>453</td>\n",
              "      <td>war</td>\n",
              "      <td>8.3</td>\n",
              "      <td>7617.0</td>\n",
              "      <td>134686.0</td>\n",
              "    </tr>\n",
              "    <tr>\n",
              "      <th>18419</th>\n",
              "      <td>Gettysburg</td>\n",
              "      <td>1993</td>\n",
              "      <td>271</td>\n",
              "      <td>history</td>\n",
              "      <td>7.6</td>\n",
              "      <td>29791.0</td>\n",
              "      <td>10769960.0</td>\n",
              "    </tr>\n",
              "    <tr>\n",
              "      <th>18524</th>\n",
              "      <td>The Greatest Story Ever Told</td>\n",
              "      <td>1965</td>\n",
              "      <td>260</td>\n",
              "      <td>history</td>\n",
              "      <td>6.5</td>\n",
              "      <td>10785.0</td>\n",
              "      <td>15473333.0</td>\n",
              "    </tr>\n",
              "    <tr>\n",
              "      <th>19823</th>\n",
              "      <td>The Greatest Story Ever Told</td>\n",
              "      <td>1965</td>\n",
              "      <td>260</td>\n",
              "      <td>biography</td>\n",
              "      <td>6.5</td>\n",
              "      <td>10825.0</td>\n",
              "      <td>15473333.0</td>\n",
              "    </tr>\n",
              "    <tr>\n",
              "      <th>22265</th>\n",
              "      <td>War and Peace</td>\n",
              "      <td>1965</td>\n",
              "      <td>453</td>\n",
              "      <td>romance</td>\n",
              "      <td>8.3</td>\n",
              "      <td>7653.0</td>\n",
              "      <td>134686.0</td>\n",
              "    </tr>\n",
              "    <tr>\n",
              "      <th>22443</th>\n",
              "      <td>The Best of Youth</td>\n",
              "      <td>2003</td>\n",
              "      <td>366</td>\n",
              "      <td>romance</td>\n",
              "      <td>8.5</td>\n",
              "      <td>22431.0</td>\n",
              "      <td>274024.0</td>\n",
              "    </tr>\n",
              "    <tr>\n",
              "      <th>23776</th>\n",
              "      <td>Little Dorrit</td>\n",
              "      <td>1987</td>\n",
              "      <td>357</td>\n",
              "      <td>romance</td>\n",
              "      <td>7.2</td>\n",
              "      <td>1175.0</td>\n",
              "      <td>1025228.0</td>\n",
              "    </tr>\n",
              "    <tr>\n",
              "      <th>24141</th>\n",
              "      <td>La Flor</td>\n",
              "      <td>2018</td>\n",
              "      <td>808</td>\n",
              "      <td>romance</td>\n",
              "      <td>7.4</td>\n",
              "      <td>746.0</td>\n",
              "      <td>4032.0</td>\n",
              "    </tr>\n",
              "  </tbody>\n",
              "</table>\n",
              "</div>\n",
              "      <button class=\"colab-df-convert\" onclick=\"convertToInteractive('df-2a68095d-57d8-4ec9-bf93-73c75df5ab9a')\"\n",
              "              title=\"Convert this dataframe to an interactive table.\"\n",
              "              style=\"display:none;\">\n",
              "        \n",
              "  <svg xmlns=\"http://www.w3.org/2000/svg\" height=\"24px\"viewBox=\"0 0 24 24\"\n",
              "       width=\"24px\">\n",
              "    <path d=\"M0 0h24v24H0V0z\" fill=\"none\"/>\n",
              "    <path d=\"M18.56 5.44l.94 2.06.94-2.06 2.06-.94-2.06-.94-.94-2.06-.94 2.06-2.06.94zm-11 1L8.5 8.5l.94-2.06 2.06-.94-2.06-.94L8.5 2.5l-.94 2.06-2.06.94zm10 10l.94 2.06.94-2.06 2.06-.94-2.06-.94-.94-2.06-.94 2.06-2.06.94z\"/><path d=\"M17.41 7.96l-1.37-1.37c-.4-.4-.92-.59-1.43-.59-.52 0-1.04.2-1.43.59L10.3 9.45l-7.72 7.72c-.78.78-.78 2.05 0 2.83L4 21.41c.39.39.9.59 1.41.59.51 0 1.02-.2 1.41-.59l7.78-7.78 2.81-2.81c.8-.78.8-2.07 0-2.86zM5.41 20L4 18.59l7.72-7.72 1.47 1.35L5.41 20z\"/>\n",
              "  </svg>\n",
              "      </button>\n",
              "      \n",
              "  <style>\n",
              "    .colab-df-container {\n",
              "      display:flex;\n",
              "      flex-wrap:wrap;\n",
              "      gap: 12px;\n",
              "    }\n",
              "\n",
              "    .colab-df-convert {\n",
              "      background-color: #E8F0FE;\n",
              "      border: none;\n",
              "      border-radius: 50%;\n",
              "      cursor: pointer;\n",
              "      display: none;\n",
              "      fill: #1967D2;\n",
              "      height: 32px;\n",
              "      padding: 0 0 0 0;\n",
              "      width: 32px;\n",
              "    }\n",
              "\n",
              "    .colab-df-convert:hover {\n",
              "      background-color: #E2EBFA;\n",
              "      box-shadow: 0px 1px 2px rgba(60, 64, 67, 0.3), 0px 1px 3px 1px rgba(60, 64, 67, 0.15);\n",
              "      fill: #174EA6;\n",
              "    }\n",
              "\n",
              "    [theme=dark] .colab-df-convert {\n",
              "      background-color: #3B4455;\n",
              "      fill: #D2E3FC;\n",
              "    }\n",
              "\n",
              "    [theme=dark] .colab-df-convert:hover {\n",
              "      background-color: #434B5C;\n",
              "      box-shadow: 0px 1px 3px 1px rgba(0, 0, 0, 0.15);\n",
              "      filter: drop-shadow(0px 1px 2px rgba(0, 0, 0, 0.3));\n",
              "      fill: #FFFFFF;\n",
              "    }\n",
              "  </style>\n",
              "\n",
              "      <script>\n",
              "        const buttonEl =\n",
              "          document.querySelector('#df-2a68095d-57d8-4ec9-bf93-73c75df5ab9a button.colab-df-convert');\n",
              "        buttonEl.style.display =\n",
              "          google.colab.kernel.accessAllowed ? 'block' : 'none';\n",
              "\n",
              "        async function convertToInteractive(key) {\n",
              "          const element = document.querySelector('#df-2a68095d-57d8-4ec9-bf93-73c75df5ab9a');\n",
              "          const dataTable =\n",
              "            await google.colab.kernel.invokeFunction('convertToInteractive',\n",
              "                                                     [key], {});\n",
              "          if (!dataTable) return;\n",
              "\n",
              "          const docLinkHtml = 'Like what you see? Visit the ' +\n",
              "            '<a target=\"_blank\" href=https://colab.research.google.com/notebooks/data_table.ipynb>data table notebook</a>'\n",
              "            + ' to learn more about interactive tables.';\n",
              "          element.innerHTML = '';\n",
              "          dataTable['output_type'] = 'display_data';\n",
              "          await google.colab.output.renderOutput(dataTable, element);\n",
              "          const docLink = document.createElement('div');\n",
              "          docLink.innerHTML = docLinkHtml;\n",
              "          element.appendChild(docLink);\n",
              "        }\n",
              "      </script>\n",
              "    </div>\n",
              "  </div>\n",
              "  "
            ]
          },
          "metadata": {},
          "execution_count": 15
        }
      ]
    },
    {
      "cell_type": "markdown",
      "source": [
        "##### rating 전처리 (10점 만점, 별점)\n",
        "-> 모델에 적용할 때 문제가 된다면 0-2/2.1-4/4.1-6/6.1-8/8.1-10 으로 나눠서 해보기"
      ],
      "metadata": {
        "id": "TrIyY8-D3mfQ"
      }
    },
    {
      "cell_type": "code",
      "source": [
        "df.info()"
      ],
      "metadata": {
        "colab": {
          "base_uri": "https://localhost:8080/"
        },
        "id": "OdWNR5KI3r9M",
        "outputId": "e92afd3c-b181-4abf-a85a-9c045978ce51"
      },
      "execution_count": 16,
      "outputs": [
        {
          "output_type": "stream",
          "name": "stdout",
          "text": [
            "<class 'pandas.core.frame.DataFrame'>\n",
            "Int64Index: 25027 entries, 0 to 25038\n",
            "Data columns (total 7 columns):\n",
            " #   Column      Non-Null Count  Dtype  \n",
            "---  ------      --------------  -----  \n",
            " 0   movie_name  25027 non-null  object \n",
            " 1   year        25027 non-null  int64  \n",
            " 2   runtime     25027 non-null  int64  \n",
            " 3   genre       25027 non-null  object \n",
            " 4   rating      25027 non-null  float64\n",
            " 5   votes       25027 non-null  float64\n",
            " 6   gross       25027 non-null  float64\n",
            "dtypes: float64(3), int64(2), object(2)\n",
            "memory usage: 1.5+ MB\n"
          ]
        }
      ]
    },
    {
      "cell_type": "code",
      "source": [
        "#raing 분포 시각화\n",
        "plt.bar(df.rating.value_counts().index,height=df.rating.value_counts())"
      ],
      "metadata": {
        "colab": {
          "base_uri": "https://localhost:8080/",
          "height": 0
        },
        "id": "7B_X0KeG332k",
        "outputId": "c6fcf096-1e7c-4ccc-93d5-a0b72d030bec"
      },
      "execution_count": 17,
      "outputs": [
        {
          "output_type": "execute_result",
          "data": {
            "text/plain": [
              "<BarContainer object of 77 artists>"
            ]
          },
          "metadata": {},
          "execution_count": 17
        },
        {
          "output_type": "display_data",
          "data": {
            "text/plain": [
              "<Figure size 640x480 with 1 Axes>"
            ],
            "image/png": "[encoded data removed]"
          },
          "metadata": {}
        }
      ]
    },
    {
      "cell_type": "markdown",
      "source": [
        "##### votes 전처리 -> 보류"
      ],
      "metadata": {
        "id": "X9jQ9R96RNfP"
      }
    },
    {
      "cell_type": "code",
      "source": [
        "df"
      ],
      "metadata": {
        "colab": {
          "base_uri": "https://localhost:8080/",
          "height": 0
        },
        "id": "QZ2ZAXNZRme3",
        "outputId": "41cee9cb-1468-49c2-8a4f-cb62f48a7f21"
      },
      "execution_count": 18,
      "outputs": [
        {
          "output_type": "execute_result",
          "data": {
            "text/plain": [
              "                 movie_name  year  runtime     genre  rating      votes  \\\n",
              "0                Knives Out  2019      130  thriller     7.9   705622.0   \n",
              "1          The Hunger Games  2012      142  thriller     7.2   927499.0   \n",
              "2           The Dark Knight  2008      152  thriller     9.0  2675531.0   \n",
              "3                 Inception  2010      148  thriller     8.8  2373682.0   \n",
              "4                Black Swan  2010      108  thriller     8.0   776577.0   \n",
              "...                     ...   ...      ...       ...     ...        ...   \n",
              "25034         Corporal Kate  1926       80   romance     6.0       20.0   \n",
              "25035     Thy Name Is Woman  1924       90   romance     5.7       22.0   \n",
              "25036      True Love Zombie  2012       86   romance     4.4       46.0   \n",
              "25037        Far from India  2003      101   romance     6.5       30.0   \n",
              "25038  Ethereal Everlasting  2011       90   romance     7.2       16.0   \n",
              "\n",
              "             gross  \n",
              "0      165359751.0  \n",
              "1      408010692.0  \n",
              "2      534858444.0  \n",
              "3      292576195.0  \n",
              "4      106954678.0  \n",
              "...            ...  \n",
              "25034     147000.0  \n",
              "25035     208196.0  \n",
              "25036        100.0  \n",
              "25037       8500.0  \n",
              "25038      69155.0  \n",
              "\n",
              "[25027 rows x 7 columns]"
            ],
            "text/html": [
              "\n",
              "  <div id=\"df-afe582ca-b16c-4e34-bf40-4992347827b3\">\n",
              "    <div class=\"colab-df-container\">\n",
              "      <div>\n",
              "<style scoped>\n",
              "    .dataframe tbody tr th:only-of-type {\n",
              "        vertical-align: middle;\n",
              "    }\n",
              "\n",
              "    .dataframe tbody tr th {\n",
              "        vertical-align: top;\n",
              "    }\n",
              "\n",
              "    .dataframe thead th {\n",
              "        text-align: right;\n",
              "    }\n",
              "</style>\n",
              "<table border=\"1\" class=\"dataframe\">\n",
              "  <thead>\n",
              "    <tr style=\"text-align: right;\">\n",
              "      <th></th>\n",
              "      <th>movie_name</th>\n",
              "      <th>year</th>\n",
              "      <th>runtime</th>\n",
              "      <th>genre</th>\n",
              "      <th>rating</th>\n",
              "      <th>votes</th>\n",
              "      <th>gross</th>\n",
              "    </tr>\n",
              "  </thead>\n",
              "  <tbody>\n",
              "    <tr>\n",
              "      <th>0</th>\n",
              "      <td>Knives Out</td>\n",
              "      <td>2019</td>\n",
              "      <td>130</td>\n",
              "      <td>thriller</td>\n",
              "      <td>7.9</td>\n",
              "      <td>705622.0</td>\n",
              "      <td>165359751.0</td>\n",
              "    </tr>\n",
              "    <tr>\n",
              "      <th>1</th>\n",
              "      <td>The Hunger Games</td>\n",
              "      <td>2012</td>\n",
              "      <td>142</td>\n",
              "      <td>thriller</td>\n",
              "      <td>7.2</td>\n",
              "      <td>927499.0</td>\n",
              "      <td>408010692.0</td>\n",
              "    </tr>\n",
              "    <tr>\n",
              "      <th>2</th>\n",
              "      <td>The Dark Knight</td>\n",
              "      <td>2008</td>\n",
              "      <td>152</td>\n",
              "      <td>thriller</td>\n",
              "      <td>9.0</td>\n",
              "      <td>2675531.0</td>\n",
              "      <td>534858444.0</td>\n",
              "    </tr>\n",
              "    <tr>\n",
              "      <th>3</th>\n",
              "      <td>Inception</td>\n",
              "      <td>2010</td>\n",
              "      <td>148</td>\n",
              "      <td>thriller</td>\n",
              "      <td>8.8</td>\n",
              "      <td>2373682.0</td>\n",
              "      <td>292576195.0</td>\n",
              "    </tr>\n",
              "    <tr>\n",
              "      <th>4</th>\n",
              "      <td>Black Swan</td>\n",
              "      <td>2010</td>\n",
              "      <td>108</td>\n",
              "      <td>thriller</td>\n",
              "      <td>8.0</td>\n",
              "      <td>776577.0</td>\n",
              "      <td>106954678.0</td>\n",
              "    </tr>\n",
              "    <tr>\n",
              "      <th>...</th>\n",
              "      <td>...</td>\n",
              "      <td>...</td>\n",
              "      <td>...</td>\n",
              "      <td>...</td>\n",
              "      <td>...</td>\n",
              "      <td>...</td>\n",
              "      <td>...</td>\n",
              "    </tr>\n",
              "    <tr>\n",
              "      <th>25034</th>\n",
              "      <td>Corporal Kate</td>\n",
              "      <td>1926</td>\n",
              "      <td>80</td>\n",
              "      <td>romance</td>\n",
              "      <td>6.0</td>\n",
              "      <td>20.0</td>\n",
              "      <td>147000.0</td>\n",
              "    </tr>\n",
              "    <tr>\n",
              "      <th>25035</th>\n",
              "      <td>Thy Name Is Woman</td>\n",
              "      <td>1924</td>\n",
              "      <td>90</td>\n",
              "      <td>romance</td>\n",
              "      <td>5.7</td>\n",
              "      <td>22.0</td>\n",
              "      <td>208196.0</td>\n",
              "    </tr>\n",
              "    <tr>\n",
              "      <th>25036</th>\n",
              "      <td>True Love Zombie</td>\n",
              "      <td>2012</td>\n",
              "      <td>86</td>\n",
              "      <td>romance</td>\n",
              "      <td>4.4</td>\n",
              "      <td>46.0</td>\n",
              "      <td>100.0</td>\n",
              "    </tr>\n",
              "    <tr>\n",
              "      <th>25037</th>\n",
              "      <td>Far from India</td>\n",
              "      <td>2003</td>\n",
              "      <td>101</td>\n",
              "      <td>romance</td>\n",
              "      <td>6.5</td>\n",
              "      <td>30.0</td>\n",
              "      <td>8500.0</td>\n",
              "    </tr>\n",
              "    <tr>\n",
              "      <th>25038</th>\n",
              "      <td>Ethereal Everlasting</td>\n",
              "      <td>2011</td>\n",
              "      <td>90</td>\n",
              "      <td>romance</td>\n",
              "      <td>7.2</td>\n",
              "      <td>16.0</td>\n",
              "      <td>69155.0</td>\n",
              "    </tr>\n",
              "  </tbody>\n",
              "</table>\n",
              "<p>25027 rows × 7 columns</p>\n",
              "</div>\n",
              "      <button class=\"colab-df-convert\" onclick=\"convertToInteractive('df-afe582ca-b16c-4e34-bf40-4992347827b3')\"\n",
              "              title=\"Convert this dataframe to an interactive table.\"\n",
              "              style=\"display:none;\">\n",
              "        \n",
              "  <svg xmlns=\"http://www.w3.org/2000/svg\" height=\"24px\"viewBox=\"0 0 24 24\"\n",
              "       width=\"24px\">\n",
              "    <path d=\"M0 0h24v24H0V0z\" fill=\"none\"/>\n",
              "    <path d=\"M18.56 5.44l.94 2.06.94-2.06 2.06-.94-2.06-.94-.94-2.06-.94 2.06-2.06.94zm-11 1L8.5 8.5l.94-2.06 2.06-.94-2.06-.94L8.5 2.5l-.94 2.06-2.06.94zm10 10l.94 2.06.94-2.06 2.06-.94-2.06-.94-.94-2.06-.94 2.06-2.06.94z\"/><path d=\"M17.41 7.96l-1.37-1.37c-.4-.4-.92-.59-1.43-.59-.52 0-1.04.2-1.43.59L10.3 9.45l-7.72 7.72c-.78.78-.78 2.05 0 2.83L4 21.41c.39.39.9.59 1.41.59.51 0 1.02-.2 1.41-.59l7.78-7.78 2.81-2.81c.8-.78.8-2.07 0-2.86zM5.41 20L4 18.59l7.72-7.72 1.47 1.35L5.41 20z\"/>\n",
              "  </svg>\n",
              "      </button>\n",
              "      \n",
              "  <style>\n",
              "    .colab-df-container {\n",
              "      display:flex;\n",
              "      flex-wrap:wrap;\n",
              "      gap: 12px;\n",
              "    }\n",
              "\n",
              "    .colab-df-convert {\n",
              "      background-color: #E8F0FE;\n",
              "      border: none;\n",
              "      border-radius: 50%;\n",
              "      cursor: pointer;\n",
              "      display: none;\n",
              "      fill: #1967D2;\n",
              "      height: 32px;\n",
              "      padding: 0 0 0 0;\n",
              "      width: 32px;\n",
              "    }\n",
              "\n",
              "    .colab-df-convert:hover {\n",
              "      background-color: #E2EBFA;\n",
              "      box-shadow: 0px 1px 2px rgba(60, 64, 67, 0.3), 0px 1px 3px 1px rgba(60, 64, 67, 0.15);\n",
              "      fill: #174EA6;\n",
              "    }\n",
              "\n",
              "    [theme=dark] .colab-df-convert {\n",
              "      background-color: #3B4455;\n",
              "      fill: #D2E3FC;\n",
              "    }\n",
              "\n",
              "    [theme=dark] .colab-df-convert:hover {\n",
              "      background-color: #434B5C;\n",
              "      box-shadow: 0px 1px 3px 1px rgba(0, 0, 0, 0.15);\n",
              "      filter: drop-shadow(0px 1px 2px rgba(0, 0, 0, 0.3));\n",
              "      fill: #FFFFFF;\n",
              "    }\n",
              "  </style>\n",
              "\n",
              "      <script>\n",
              "        const buttonEl =\n",
              "          document.querySelector('#df-afe582ca-b16c-4e34-bf40-4992347827b3 button.colab-df-convert');\n",
              "        buttonEl.style.display =\n",
              "          google.colab.kernel.accessAllowed ? 'block' : 'none';\n",
              "\n",
              "        async function convertToInteractive(key) {\n",
              "          const element = document.querySelector('#df-afe582ca-b16c-4e34-bf40-4992347827b3');\n",
              "          const dataTable =\n",
              "            await google.colab.kernel.invokeFunction('convertToInteractive',\n",
              "                                                     [key], {});\n",
              "          if (!dataTable) return;\n",
              "\n",
              "          const docLinkHtml = 'Like what you see? Visit the ' +\n",
              "            '<a target=\"_blank\" href=https://colab.research.google.com/notebooks/data_table.ipynb>data table notebook</a>'\n",
              "            + ' to learn more about interactive tables.';\n",
              "          element.innerHTML = '';\n",
              "          dataTable['output_type'] = 'display_data';\n",
              "          await google.colab.output.renderOutput(dataTable, element);\n",
              "          const docLink = document.createElement('div');\n",
              "          docLink.innerHTML = docLinkHtml;\n",
              "          element.appendChild(docLink);\n",
              "        }\n",
              "      </script>\n",
              "    </div>\n",
              "  </div>\n",
              "  "
            ]
          },
          "metadata": {},
          "execution_count": 18
        }
      ]
    },
    {
      "cell_type": "code",
      "source": [
        "df.votes =df.votes.astype(int)"
      ],
      "metadata": {
        "id": "jR5BBDjRU-qi"
      },
      "execution_count": 19,
      "outputs": []
    },
    {
      "cell_type": "code",
      "source": [
        "df.info()"
      ],
      "metadata": {
        "colab": {
          "base_uri": "https://localhost:8080/"
        },
        "id": "KdET1BAwVEV0",
        "outputId": "d8c02d52-82ed-4359-d890-f08c3ad26d62"
      },
      "execution_count": 20,
      "outputs": [
        {
          "output_type": "stream",
          "name": "stdout",
          "text": [
            "<class 'pandas.core.frame.DataFrame'>\n",
            "Int64Index: 25027 entries, 0 to 25038\n",
            "Data columns (total 7 columns):\n",
            " #   Column      Non-Null Count  Dtype  \n",
            "---  ------      --------------  -----  \n",
            " 0   movie_name  25027 non-null  object \n",
            " 1   year        25027 non-null  int64  \n",
            " 2   runtime     25027 non-null  int64  \n",
            " 3   genre       25027 non-null  object \n",
            " 4   rating      25027 non-null  float64\n",
            " 5   votes       25027 non-null  int64  \n",
            " 6   gross       25027 non-null  float64\n",
            "dtypes: float64(2), int64(3), object(2)\n",
            "memory usage: 1.5+ MB\n"
          ]
        }
      ]
    },
    {
      "cell_type": "markdown",
      "source": [
        "#####gross 전처리 -> 보류"
      ],
      "metadata": {
        "id": "2nAi7t3ERQ2O"
      }
    },
    {
      "cell_type": "code",
      "source": [
        "#runtime 분포 시각화\n",
        "df.gross = df.gross.astype(int)"
      ],
      "metadata": {
        "id": "BHiugIOJRMeO"
      },
      "execution_count": 21,
      "outputs": []
    },
    {
      "cell_type": "code",
      "source": [
        "df.head()"
      ],
      "metadata": {
        "colab": {
          "base_uri": "https://localhost:8080/",
          "height": 0
        },
        "id": "p3MyqvMO7wy4",
        "outputId": "d39d7c77-de95-4298-f25d-4ca6034ca9e8"
      },
      "execution_count": 22,
      "outputs": [
        {
          "output_type": "execute_result",
          "data": {
            "text/plain": [
              "         movie_name  year  runtime     genre  rating    votes      gross\n",
              "0        Knives Out  2019      130  thriller     7.9   705622  165359751\n",
              "1  The Hunger Games  2012      142  thriller     7.2   927499  408010692\n",
              "2   The Dark Knight  2008      152  thriller     9.0  2675531  534858444\n",
              "3         Inception  2010      148  thriller     8.8  2373682  292576195\n",
              "4        Black Swan  2010      108  thriller     8.0   776577  106954678"
            ],
            "text/html": [
              "\n",
              "  <div id=\"df-568e7841-af2a-40ce-b74a-a77cd3dda59e\">\n",
              "    <div class=\"colab-df-container\">\n",
              "      <div>\n",
              "<style scoped>\n",
              "    .dataframe tbody tr th:only-of-type {\n",
              "        vertical-align: middle;\n",
              "    }\n",
              "\n",
              "    .dataframe tbody tr th {\n",
              "        vertical-align: top;\n",
              "    }\n",
              "\n",
              "    .dataframe thead th {\n",
              "        text-align: right;\n",
              "    }\n",
              "</style>\n",
              "<table border=\"1\" class=\"dataframe\">\n",
              "  <thead>\n",
              "    <tr style=\"text-align: right;\">\n",
              "      <th></th>\n",
              "      <th>movie_name</th>\n",
              "      <th>year</th>\n",
              "      <th>runtime</th>\n",
              "      <th>genre</th>\n",
              "      <th>rating</th>\n",
              "      <th>votes</th>\n",
              "      <th>gross</th>\n",
              "    </tr>\n",
              "  </thead>\n",
              "  <tbody>\n",
              "    <tr>\n",
              "      <th>0</th>\n",
              "      <td>Knives Out</td>\n",
              "      <td>2019</td>\n",
              "      <td>130</td>\n",
              "      <td>thriller</td>\n",
              "      <td>7.9</td>\n",
              "      <td>705622</td>\n",
              "      <td>165359751</td>\n",
              "    </tr>\n",
              "    <tr>\n",
              "      <th>1</th>\n",
              "      <td>The Hunger Games</td>\n",
              "      <td>2012</td>\n",
              "      <td>142</td>\n",
              "      <td>thriller</td>\n",
              "      <td>7.2</td>\n",
              "      <td>927499</td>\n",
              "      <td>408010692</td>\n",
              "    </tr>\n",
              "    <tr>\n",
              "      <th>2</th>\n",
              "      <td>The Dark Knight</td>\n",
              "      <td>2008</td>\n",
              "      <td>152</td>\n",
              "      <td>thriller</td>\n",
              "      <td>9.0</td>\n",
              "      <td>2675531</td>\n",
              "      <td>534858444</td>\n",
              "    </tr>\n",
              "    <tr>\n",
              "      <th>3</th>\n",
              "      <td>Inception</td>\n",
              "      <td>2010</td>\n",
              "      <td>148</td>\n",
              "      <td>thriller</td>\n",
              "      <td>8.8</td>\n",
              "      <td>2373682</td>\n",
              "      <td>292576195</td>\n",
              "    </tr>\n",
              "    <tr>\n",
              "      <th>4</th>\n",
              "      <td>Black Swan</td>\n",
              "      <td>2010</td>\n",
              "      <td>108</td>\n",
              "      <td>thriller</td>\n",
              "      <td>8.0</td>\n",
              "      <td>776577</td>\n",
              "      <td>106954678</td>\n",
              "    </tr>\n",
              "  </tbody>\n",
              "</table>\n",
              "</div>\n",
              "      <button class=\"colab-df-convert\" onclick=\"convertToInteractive('df-568e7841-af2a-40ce-b74a-a77cd3dda59e')\"\n",
              "              title=\"Convert this dataframe to an interactive table.\"\n",
              "              style=\"display:none;\">\n",
              "        \n",
              "  <svg xmlns=\"http://www.w3.org/2000/svg\" height=\"24px\"viewBox=\"0 0 24 24\"\n",
              "       width=\"24px\">\n",
              "    <path d=\"M0 0h24v24H0V0z\" fill=\"none\"/>\n",
              "    <path d=\"M18.56 5.44l.94 2.06.94-2.06 2.06-.94-2.06-.94-.94-2.06-.94 2.06-2.06.94zm-11 1L8.5 8.5l.94-2.06 2.06-.94-2.06-.94L8.5 2.5l-.94 2.06-2.06.94zm10 10l.94 2.06.94-2.06 2.06-.94-2.06-.94-.94-2.06-.94 2.06-2.06.94z\"/><path d=\"M17.41 7.96l-1.37-1.37c-.4-.4-.92-.59-1.43-.59-.52 0-1.04.2-1.43.59L10.3 9.45l-7.72 7.72c-.78.78-.78 2.05 0 2.83L4 21.41c.39.39.9.59 1.41.59.51 0 1.02-.2 1.41-.59l7.78-7.78 2.81-2.81c.8-.78.8-2.07 0-2.86zM5.41 20L4 18.59l7.72-7.72 1.47 1.35L5.41 20z\"/>\n",
              "  </svg>\n",
              "      </button>\n",
              "      \n",
              "  <style>\n",
              "    .colab-df-container {\n",
              "      display:flex;\n",
              "      flex-wrap:wrap;\n",
              "      gap: 12px;\n",
              "    }\n",
              "\n",
              "    .colab-df-convert {\n",
              "      background-color: #E8F0FE;\n",
              "      border: none;\n",
              "      border-radius: 50%;\n",
              "      cursor: pointer;\n",
              "      display: none;\n",
              "      fill: #1967D2;\n",
              "      height: 32px;\n",
              "      padding: 0 0 0 0;\n",
              "      width: 32px;\n",
              "    }\n",
              "\n",
              "    .colab-df-convert:hover {\n",
              "      background-color: #E2EBFA;\n",
              "      box-shadow: 0px 1px 2px rgba(60, 64, 67, 0.3), 0px 1px 3px 1px rgba(60, 64, 67, 0.15);\n",
              "      fill: #174EA6;\n",
              "    }\n",
              "\n",
              "    [theme=dark] .colab-df-convert {\n",
              "      background-color: #3B4455;\n",
              "      fill: #D2E3FC;\n",
              "    }\n",
              "\n",
              "    [theme=dark] .colab-df-convert:hover {\n",
              "      background-color: #434B5C;\n",
              "      box-shadow: 0px 1px 3px 1px rgba(0, 0, 0, 0.15);\n",
              "      filter: drop-shadow(0px 1px 2px rgba(0, 0, 0, 0.3));\n",
              "      fill: #FFFFFF;\n",
              "    }\n",
              "  </style>\n",
              "\n",
              "      <script>\n",
              "        const buttonEl =\n",
              "          document.querySelector('#df-568e7841-af2a-40ce-b74a-a77cd3dda59e button.colab-df-convert');\n",
              "        buttonEl.style.display =\n",
              "          google.colab.kernel.accessAllowed ? 'block' : 'none';\n",
              "\n",
              "        async function convertToInteractive(key) {\n",
              "          const element = document.querySelector('#df-568e7841-af2a-40ce-b74a-a77cd3dda59e');\n",
              "          const dataTable =\n",
              "            await google.colab.kernel.invokeFunction('convertToInteractive',\n",
              "                                                     [key], {});\n",
              "          if (!dataTable) return;\n",
              "\n",
              "          const docLinkHtml = 'Like what you see? Visit the ' +\n",
              "            '<a target=\"_blank\" href=https://colab.research.google.com/notebooks/data_table.ipynb>data table notebook</a>'\n",
              "            + ' to learn more about interactive tables.';\n",
              "          element.innerHTML = '';\n",
              "          dataTable['output_type'] = 'display_data';\n",
              "          await google.colab.output.renderOutput(dataTable, element);\n",
              "          const docLink = document.createElement('div');\n",
              "          docLink.innerHTML = docLinkHtml;\n",
              "          element.appendChild(docLink);\n",
              "        }\n",
              "      </script>\n",
              "    </div>\n",
              "  </div>\n",
              "  "
            ]
          },
          "metadata": {},
          "execution_count": 22
        }
      ]
    },
    {
      "cell_type": "markdown",
      "source": [
        "# 모델 (회귀모델)\n",
        " 특정 영화가 얼마나 인기가 있을지를 예측하는 등의 문제에서는 회귀 모델을 이용하는 것"
      ],
      "metadata": {
        "id": "-NKueS_Bz-1V"
      }
    },
    {
      "cell_type": "code",
      "source": [
        "#런타임이 별점/gross에 영향을 미치는가\n",
        "#매해마다 어떤 장르의 수익이 더 큰가/트렌드가 있는가\n",
        "#별점이 높으면 gross에도 영향이 있는가\n",
        "#모델로 할 내용: 별점 몇 점 이상을 받아야 gross가 증가하는가\n",
        "#런타임도 어느정도 해야 gross가 증가하는가"
      ],
      "metadata": {
        "id": "Z-3HJGj6SupG"
      },
      "execution_count": 23,
      "outputs": []
    },
    {
      "cell_type": "code",
      "source": [
        "from sklearn.model_selection import train_test_split\n",
        "from sklearn.metrics import *\n",
        "from sklearn.ensemble import RandomForestRegressor\n",
        "from xgboost import XGBRegressor\n",
        "from category_encoders import OrdinalEncoder\n",
        "from sklearn.pipeline import make_pipeline"
      ],
      "metadata": {
        "id": "j79-ypfc0BnR"
      },
      "execution_count": 24,
      "outputs": []
    },
    {
      "cell_type": "code",
      "source": [
        "# 최적 모델 학습 후, 성능 확인.\n",
        "# 모델 해석을 위한 여러 수치적 지표, 시각화 기법 사용 -> 모델 작동 해석\n",
        "# 1. base모델 선정, 성능 평가 0\n",
        "# 2. Feature engineering으로 모델 성능 최적화\n",
        "# 3. 문제 정의에 맞는 평가지표를 선택하여 모델의 성능 설명\n",
        "# 4. 교차검증/hold-out 기법으로 학습성능과 일반화 성능 구분 제시\n",
        "# 5. 여러 수치적 지표 및 permutation importance, pdp등을 활용하여 최종모델을 설명합니다. 시각화는 설명이 가장 중요합니다.\n",
        "# 6. 1에서 제시한 가설을 해결하고 인사이트를 도출합니다."
      ],
      "metadata": {
        "id": "1ygd_4zW1WVR"
      },
      "execution_count": 25,
      "outputs": []
    },
    {
      "cell_type": "code",
      "source": [
        "target = 'gross'\n",
        "X = df.drop([target,'movie_name'], axis=1) # 영화명은 딱히 필요하지 않을 것 같다 -> 성능 올라감\n",
        "y = df[target]\n",
        "# 데이터 3:7로 나누기\n",
        "X_train, X_test, y_train, y_test = train_test_split(X, y, test_size=0.3, random_state=42)\n",
        "X_train, X_val, y_train, y_val = train_test_split(X_train, y_train, test_size=0.3, random_state=42)"
      ],
      "metadata": {
        "id": "hqkw62Z91Z9j"
      },
      "execution_count": 26,
      "outputs": []
    },
    {
      "cell_type": "code",
      "source": [
        "#기준모델 - 영화의 수익 예측, 타겟(gross)의 평균값을 이용해서 기준모델 만듦. MAE로 지정\n",
        "y_base = [y_train.mean()] * len(y_train)\n",
        "print(f\"기준모델의 MAE: {mean_absolute_error(y_train, y_base)}\")"
      ],
      "metadata": {
        "colab": {
          "base_uri": "https://localhost:8080/"
        },
        "id": "EQcImpG31Z66",
        "outputId": "f63202ff-faa5-424f-d088-d927568d74f0"
      },
      "execution_count": 27,
      "outputs": [
        {
          "output_type": "stream",
          "name": "stdout",
          "text": [
            "기준모델의 MAE: 35752343.363478385\n"
          ]
        }
      ]
    },
    {
      "cell_type": "code",
      "source": [
        "#회귀 모델링\n",
        "###randomforest\n",
        "pipe_rf = make_pipeline(\n",
        "    OrdinalEncoder(),\n",
        "    RandomForestRegressor(\n",
        "        #random_state=42,\n",
        "        #oob_score=True,\n",
        "        n_jobs=-1\n",
        "    )\n",
        ")\n",
        "\n",
        "pipe_rf.fit(X_train, y_train)\n",
        "\n",
        "#예측\n",
        "y_pred = pipe_rf.predict(X_val)\n",
        "# 결과 확인\n",
        "print('MAE: ', mean_absolute_error(y_val, y_pred))\n",
        "print('r2: ',r2_score(y_val, y_pred))\n",
        "print(\"훈련 정확도: \", pipe_rf.score(X_train, y_train))\n",
        "print(\"검증 정확도: \", pipe_rf.score(X_val, y_val))"
      ],
      "metadata": {
        "colab": {
          "base_uri": "https://localhost:8080/"
        },
        "id": "oEusst931Z4O",
        "outputId": "8f3abd33-e13d-4fb4-f41c-c4b1744a22bf"
      },
      "execution_count": 28,
      "outputs": [
        {
          "output_type": "stream",
          "name": "stdout",
          "text": [
            "MAE:  11550333.48321347\n",
            "r2:  0.8093558400727336\n",
            "훈련 정확도:  0.9744949155776415\n",
            "검증 정확도:  0.8093558400727336\n"
          ]
        }
      ]
    },
    {
      "cell_type": "code",
      "source": [
        "###xgboost\n",
        "pipe_xgb = make_pipeline(\n",
        "    OrdinalEncoder(),\n",
        "    XGBRegressor(\n",
        "        #random_state=42,\n",
        "        n_jobs=-1)\n",
        ")\n",
        "\n",
        "pipe_xgb.fit(X_train, y_train)\n",
        "\n",
        "#예측\n",
        "y_pred = pipe_xgb.predict(X_val)\n",
        "# 결과 확인\n",
        "print('MAE: ', mean_absolute_error(y_val, y_pred))\n",
        "print('r2: ',r2_score(y_val, y_pred))\n",
        "print(\"훈련 정확도: \", pipe_xgb.score(X_train, y_train))\n",
        "print(\"검증 정확도: \", pipe_xgb.score(X_val, y_val))"
      ],
      "metadata": {
        "colab": {
          "base_uri": "https://localhost:8080/"
        },
        "id": "3uvvgOav1Z1m",
        "outputId": "a082e1de-c27a-4a5c-c36a-c904c9979afe"
      },
      "execution_count": 29,
      "outputs": [
        {
          "output_type": "stream",
          "name": "stdout",
          "text": [
            "MAE:  12490701.802952144\n",
            "r2:  0.8225312398927234\n",
            "훈련 정확도:  0.9580999396170183\n",
            "검증 정확도:  0.8225312398927234\n"
          ]
        }
      ]
    },
    {
      "cell_type": "markdown",
      "source": [
        "# MDI-특성중요도 해석"
      ],
      "metadata": {
        "id": "8bsuWc5-aspJ"
      }
    },
    {
      "cell_type": "code",
      "source": [
        "pipe_rf"
      ],
      "metadata": {
        "colab": {
          "base_uri": "https://localhost:8080/",
          "height": 124
        },
        "id": "0fqmLaDObcP5",
        "outputId": "2f06ee18-1412-4390-8f60-8cca4b289641"
      },
      "execution_count": 30,
      "outputs": [
        {
          "output_type": "execute_result",
          "data": {
            "text/plain": [
              "Pipeline(steps=[('ordinalencoder',\n",
              "                 OrdinalEncoder(cols=['genre'],\n",
              "                                mapping=[{'col': 'genre',\n",
              "                                          'data_type': dtype('O'),\n",
              "                                          'mapping': family        1\n",
              "sports        2\n",
              "romance       3\n",
              "crime         4\n",
              "action        5\n",
              "fantasy       6\n",
              "adventure     7\n",
              "thriller      8\n",
              "horror        9\n",
              "mystery      10\n",
              "biography    11\n",
              "history      12\n",
              "scifi        13\n",
              "war          14\n",
              "animation    15\n",
              "film_noir    16\n",
              "NaN          -2\n",
              "dtype: int64}])),\n",
              "                ('randomforestregressor', RandomForestRegressor(n_jobs=-1))])"
            ],
            "text/html": [
              "<style>#sk-container-id-1 {color: black;background-color: white;}#sk-container-id-1 pre{padding: 0;}#sk-container-id-1 div.sk-toggleable {background-color: white;}#sk-container-id-1 label.sk-toggleable__label {cursor: pointer;display: block;width: 100%;margin-bottom: 0;padding: 0.3em;box-sizing: border-box;text-align: center;}#sk-container-id-1 label.sk-toggleable__label-arrow:before {content: \"▸\";float: left;margin-right: 0.25em;color: #696969;}#sk-container-id-1 label.sk-toggleable__label-arrow:hover:before {color: black;}#sk-container-id-1 div.sk-estimator:hover label.sk-toggleable__label-arrow:before {color: black;}#sk-container-id-1 div.sk-toggleable__content {max-height: 0;max-width: 0;overflow: hidden;text-align: left;background-color: #f0f8ff;}#sk-container-id-1 div.sk-toggleable__content pre {margin: 0.2em;color: black;border-radius: 0.25em;background-color: #f0f8ff;}#sk-container-id-1 input.sk-toggleable__control:checked~div.sk-toggleable__content {max-height: 200px;max-width: 100%;overflow: auto;}#sk-container-id-1 input.sk-toggleable__control:checked~label.sk-toggleable__label-arrow:before {content: \"▾\";}#sk-container-id-1 div.sk-estimator input.sk-toggleable__control:checked~label.sk-toggleable__label {background-color: #d4ebff;}#sk-container-id-1 div.sk-label input.sk-toggleable__control:checked~label.sk-toggleable__label {background-color: #d4ebff;}#sk-container-id-1 input.sk-hidden--visually {border: 0;clip: rect(1px 1px 1px 1px);clip: rect(1px, 1px, 1px, 1px);height: 1px;margin: -1px;overflow: hidden;padding: 0;position: absolute;width: 1px;}#sk-container-id-1 div.sk-estimator {font-family: monospace;background-color: #f0f8ff;border: 1px dotted black;border-radius: 0.25em;box-sizing: border-box;margin-bottom: 0.5em;}#sk-container-id-1 div.sk-estimator:hover {background-color: #d4ebff;}#sk-container-id-1 div.sk-parallel-item::after {content: \"\";width: 100%;border-bottom: 1px solid gray;flex-grow: 1;}#sk-container-id-1 div.sk-label:hover label.sk-toggleable__label {background-color: #d4ebff;}#sk-container-id-1 div.sk-serial::before {content: \"\";position: absolute;border-left: 1px solid gray;box-sizing: border-box;top: 0;bottom: 0;left: 50%;z-index: 0;}#sk-container-id-1 div.sk-serial {display: flex;flex-direction: column;align-items: center;background-color: white;padding-right: 0.2em;padding-left: 0.2em;position: relative;}#sk-container-id-1 div.sk-item {position: relative;z-index: 1;}#sk-container-id-1 div.sk-parallel {display: flex;align-items: stretch;justify-content: center;background-color: white;position: relative;}#sk-container-id-1 div.sk-item::before, #sk-container-id-1 div.sk-parallel-item::before {content: \"\";position: absolute;border-left: 1px solid gray;box-sizing: border-box;top: 0;bottom: 0;left: 50%;z-index: -1;}#sk-container-id-1 div.sk-parallel-item {display: flex;flex-direction: column;z-index: 1;position: relative;background-color: white;}#sk-container-id-1 div.sk-parallel-item:first-child::after {align-self: flex-end;width: 50%;}#sk-container-id-1 div.sk-parallel-item:last-child::after {align-self: flex-start;width: 50%;}#sk-container-id-1 div.sk-parallel-item:only-child::after {width: 0;}#sk-container-id-1 div.sk-dashed-wrapped {border: 1px dashed gray;margin: 0 0.4em 0.5em 0.4em;box-sizing: border-box;padding-bottom: 0.4em;background-color: white;}#sk-container-id-1 div.sk-label label {font-family: monospace;font-weight: bold;display: inline-block;line-height: 1.2em;}#sk-container-id-1 div.sk-label-container {text-align: center;}#sk-container-id-1 div.sk-container {/* jupyter's `normalize.less` sets `[hidden] { display: none; }` but bootstrap.min.css set `[hidden] { display: none !important; }` so we also need the `!important` here to be able to override the default hidden behavior on the sphinx rendered scikit-learn.org. See: https://github.com/scikit-learn/scikit-learn/issues/21755 */display: inline-block !important;position: relative;}#sk-container-id-1 div.sk-text-repr-fallback {display: none;}</style><div id=\"sk-container-id-1\" class=\"sk-top-container\"><div class=\"sk-text-repr-fallback\"><pre>Pipeline(steps=[(&#x27;ordinalencoder&#x27;,\n",
              "                 OrdinalEncoder(cols=[&#x27;genre&#x27;],\n",
              "                                mapping=[{&#x27;col&#x27;: &#x27;genre&#x27;,\n",
              "                                          &#x27;data_type&#x27;: dtype(&#x27;O&#x27;),\n",
              "                                          &#x27;mapping&#x27;: family        1\n",
              "sports        2\n",
              "romance       3\n",
              "crime         4\n",
              "action        5\n",
              "fantasy       6\n",
              "adventure     7\n",
              "thriller      8\n",
              "horror        9\n",
              "mystery      10\n",
              "biography    11\n",
              "history      12\n",
              "scifi        13\n",
              "war          14\n",
              "animation    15\n",
              "film_noir    16\n",
              "NaN          -2\n",
              "dtype: int64}])),\n",
              "                (&#x27;randomforestregressor&#x27;, RandomForestRegressor(n_jobs=-1))])</pre><b>In a Jupyter environment, please rerun this cell to show the HTML representation or trust the notebook. <br />On GitHub, the HTML representation is unable to render, please try loading this page with nbviewer.org.</b></div><div class=\"sk-container\" hidden><div class=\"sk-item sk-dashed-wrapped\"><div class=\"sk-label-container\"><div class=\"sk-label sk-toggleable\"><input class=\"sk-toggleable__control sk-hidden--visually\" id=\"sk-estimator-id-1\" type=\"checkbox\" ><label for=\"sk-estimator-id-1\" class=\"sk-toggleable__label sk-toggleable__label-arrow\">Pipeline</label><div class=\"sk-toggleable__content\"><pre>Pipeline(steps=[(&#x27;ordinalencoder&#x27;,\n",
              "                 OrdinalEncoder(cols=[&#x27;genre&#x27;],\n",
              "                                mapping=[{&#x27;col&#x27;: &#x27;genre&#x27;,\n",
              "                                          &#x27;data_type&#x27;: dtype(&#x27;O&#x27;),\n",
              "                                          &#x27;mapping&#x27;: family        1\n",
              "sports        2\n",
              "romance       3\n",
              "crime         4\n",
              "action        5\n",
              "fantasy       6\n",
              "adventure     7\n",
              "thriller      8\n",
              "horror        9\n",
              "mystery      10\n",
              "biography    11\n",
              "history      12\n",
              "scifi        13\n",
              "war          14\n",
              "animation    15\n",
              "film_noir    16\n",
              "NaN          -2\n",
              "dtype: int64}])),\n",
              "                (&#x27;randomforestregressor&#x27;, RandomForestRegressor(n_jobs=-1))])</pre></div></div></div><div class=\"sk-serial\"><div class=\"sk-item\"><div class=\"sk-estimator sk-toggleable\"><input class=\"sk-toggleable__control sk-hidden--visually\" id=\"sk-estimator-id-2\" type=\"checkbox\" ><label for=\"sk-estimator-id-2\" class=\"sk-toggleable__label sk-toggleable__label-arrow\">OrdinalEncoder</label><div class=\"sk-toggleable__content\"><pre>OrdinalEncoder(cols=[&#x27;genre&#x27;],\n",
              "               mapping=[{&#x27;col&#x27;: &#x27;genre&#x27;, &#x27;data_type&#x27;: dtype(&#x27;O&#x27;),\n",
              "                         &#x27;mapping&#x27;: family        1\n",
              "sports        2\n",
              "romance       3\n",
              "crime         4\n",
              "action        5\n",
              "fantasy       6\n",
              "adventure     7\n",
              "thriller      8\n",
              "horror        9\n",
              "mystery      10\n",
              "biography    11\n",
              "history      12\n",
              "scifi        13\n",
              "war          14\n",
              "animation    15\n",
              "film_noir    16\n",
              "NaN          -2\n",
              "dtype: int64}])</pre></div></div></div><div class=\"sk-item\"><div class=\"sk-estimator sk-toggleable\"><input class=\"sk-toggleable__control sk-hidden--visually\" id=\"sk-estimator-id-3\" type=\"checkbox\" ><label for=\"sk-estimator-id-3\" class=\"sk-toggleable__label sk-toggleable__label-arrow\">RandomForestRegressor</label><div class=\"sk-toggleable__content\"><pre>RandomForestRegressor(n_jobs=-1)</pre></div></div></div></div></div></div></div>"
            ]
          },
          "metadata": {},
          "execution_count": 30
        }
      ]
    },
    {
      "cell_type": "code",
      "source": [
        "rf = pipe_rf[1]\n",
        "rf_importances = pd.Series(rf.feature_importances_, list(X))\n",
        "\n",
        "rf_importances.sort_values().plot.barh()\n",
        "plt.title(\"RandomForest's Feature Importance\")\n",
        "plt.show();\n",
        "\n",
        "X_train.nunique().sort_values().plot.barh()\n",
        "plt.title(\"Cardinality\")"
      ],
      "metadata": {
        "colab": {
          "base_uri": "https://localhost:8080/",
          "height": 900
        },
        "id": "EmdAtazSaubc",
        "outputId": "efbcae1b-9434-464c-8135-adaa76e0dd9d"
      },
      "execution_count": 31,
      "outputs": [
        {
          "output_type": "display_data",
          "data": {
            "text/plain": [
              "<Figure size 640x480 with 1 Axes>"
            ],
            "image/png": "[encoded data removed]"
          },
          "metadata": {}
        },
        {
          "output_type": "execute_result",
          "data": {
            "text/plain": [
              "Text(0.5, 1.0, 'Cardinality')"
            ]
          },
          "metadata": {},
          "execution_count": 31
        },
        {
          "output_type": "display_data",
          "data": {
            "text/plain": [
              "<Figure size 640x480 with 1 Axes>"
            ],
            "image/png": "[encoded data removed]"
          },
          "metadata": {}
        }
      ]
    },
    {
      "cell_type": "code",
      "source": [
        "# xgb모델 MDI 특성 중요도 시각화\n",
        "xgb = pipe_xgb[1]\n",
        "xgb_importances = pd.Series(xgb.feature_importances_, list(X))\n",
        "\n",
        "xgb_importances.sort_values().plot.barh()\n",
        "plt.title(\"XGBoost's Feature Importance\")\n",
        "plt.show();"
      ],
      "metadata": {
        "colab": {
          "base_uri": "https://localhost:8080/",
          "height": 450
        },
        "id": "Yq-TbvqdgYps",
        "outputId": "ed71f0e8-32e7-4a62-ff33-2fe2c6676363"
      },
      "execution_count": 32,
      "outputs": [
        {
          "output_type": "display_data",
          "data": {
            "text/plain": [
              "<Figure size 640x480 with 1 Axes>"
            ],
            "image/png": "[encoded data removed]"
          },
          "metadata": {}
        }
      ]
    },
    {
      "cell_type": "markdown",
      "source": [
        "# 순열중요도"
      ],
      "metadata": {
        "id": "2arg0TnBavKV"
      }
    },
    {
      "cell_type": "code",
      "source": [
        "from eli5.sklearn import PermutationImportance\n",
        "import eli5\n",
        "\n",
        "#####randomforest\n",
        "permuter = PermutationImportance(\n",
        "    pipe_rf[1],\n",
        "    scoring='neg_mean_absolute_error', #r2\n",
        "    n_iter=10,\n",
        "    #random_state=\n",
        ")\n",
        "\n",
        "# val dataset 특성 Ordinal Encoding\n",
        "X_val_processed = pipe_rf[0].transform(X_val)\n",
        "\n",
        "feature_names = list(X)\n",
        "\n",
        "permuter.fit(X_val_processed, y_val)\n",
        "eli5.show_weights(\n",
        "    permuter,\n",
        "    top=None,\n",
        "    feature_names=feature_names\n",
        ")"
      ],
      "metadata": {
        "colab": {
          "base_uri": "https://localhost:8080/",
          "height": 121
        },
        "id": "aEprsBZKaybk",
        "outputId": "20e80c21-9c01-4d79-af3e-f2bf59481a30"
      },
      "execution_count": 33,
      "outputs": [
        {
          "output_type": "execute_result",
          "data": {
            "text/plain": [
              "<IPython.core.display.HTML object>"
            ],
            "text/html": [
              "\n",
              "    <style>\n",
              "    table.eli5-weights tr:hover {\n",
              "        filter: brightness(85%);\n",
              "    }\n",
              "</style>\n",
              "\n",
              "\n",
              "\n",
              "    \n",
              "\n",
              "    \n",
              "\n",
              "    \n",
              "\n",
              "    \n",
              "\n",
              "    \n",
              "\n",
              "    \n",
              "\n",
              "\n",
              "    \n",
              "\n",
              "    \n",
              "\n",
              "    \n",
              "\n",
              "    \n",
              "\n",
              "    \n",
              "\n",
              "    \n",
              "\n",
              "\n",
              "    \n",
              "\n",
              "    \n",
              "\n",
              "    \n",
              "\n",
              "    \n",
              "\n",
              "    \n",
              "        <table class=\"eli5-weights eli5-feature-importances\" style=\"border-collapse: collapse; border: none; margin-top: 0em; table-layout: auto;\">\n",
              "    <thead>\n",
              "    <tr style=\"border: none;\">\n",
              "        <th style=\"padding: 0 1em 0 0.5em; text-align: right; border: none;\">Weight</th>\n",
              "        <th style=\"padding: 0 0.5em 0 0.5em; text-align: left; border: none;\">Feature</th>\n",
              "    </tr>\n",
              "    </thead>\n",
              "    <tbody>\n",
              "    \n",
              "        <tr style=\"background-color: hsl(120, 100.00%, 80.00%); border: none;\">\n",
              "            <td style=\"padding: 0 1em 0 0.5em; text-align: right; border: none;\">\n",
              "                35295547.3842\n",
              "                \n",
              "                    &plusmn; 828133.0387\n",
              "                \n",
              "            </td>\n",
              "            <td style=\"padding: 0 0.5em 0 0.5em; text-align: left; border: none;\">\n",
              "                votes\n",
              "            </td>\n",
              "        </tr>\n",
              "    \n",
              "        <tr style=\"background-color: hsl(120, 100.00%, 92.56%); border: none;\">\n",
              "            <td style=\"padding: 0 1em 0 0.5em; text-align: right; border: none;\">\n",
              "                8587075.9868\n",
              "                \n",
              "                    &plusmn; 190586.7117\n",
              "                \n",
              "            </td>\n",
              "            <td style=\"padding: 0 0.5em 0 0.5em; text-align: left; border: none;\">\n",
              "                rating\n",
              "            </td>\n",
              "        </tr>\n",
              "    \n",
              "        <tr style=\"background-color: hsl(120, 100.00%, 94.29%); border: none;\">\n",
              "            <td style=\"padding: 0 1em 0 0.5em; text-align: right; border: none;\">\n",
              "                5893779.3158\n",
              "                \n",
              "                    &plusmn; 396702.9785\n",
              "                \n",
              "            </td>\n",
              "            <td style=\"padding: 0 0.5em 0 0.5em; text-align: left; border: none;\">\n",
              "                year\n",
              "            </td>\n",
              "        </tr>\n",
              "    \n",
              "        <tr style=\"background-color: hsl(120, 100.00%, 95.79%); border: none;\">\n",
              "            <td style=\"padding: 0 1em 0 0.5em; text-align: right; border: none;\">\n",
              "                3809891.9707\n",
              "                \n",
              "                    &plusmn; 178576.9144\n",
              "                \n",
              "            </td>\n",
              "            <td style=\"padding: 0 0.5em 0 0.5em; text-align: left; border: none;\">\n",
              "                runtime\n",
              "            </td>\n",
              "        </tr>\n",
              "    \n",
              "        <tr style=\"background-color: hsl(120, 100.00%, 97.81%); border: none;\">\n",
              "            <td style=\"padding: 0 1em 0 0.5em; text-align: right; border: none;\">\n",
              "                1493489.6104\n",
              "                \n",
              "                    &plusmn; 259267.6631\n",
              "                \n",
              "            </td>\n",
              "            <td style=\"padding: 0 0.5em 0 0.5em; text-align: left; border: none;\">\n",
              "                genre\n",
              "            </td>\n",
              "        </tr>\n",
              "    \n",
              "    \n",
              "    </tbody>\n",
              "</table>\n",
              "    \n",
              "\n",
              "    \n",
              "\n",
              "\n",
              "    \n",
              "\n",
              "    \n",
              "\n",
              "    \n",
              "\n",
              "    \n",
              "\n",
              "    \n",
              "\n",
              "    \n",
              "\n",
              "\n",
              "\n"
            ]
          },
          "metadata": {},
          "execution_count": 33
        }
      ]
    },
    {
      "cell_type": "code",
      "source": [
        "#####xgboost\n",
        "permuter_2 = PermutationImportance(\n",
        "    pipe_xgb.named_steps['xgbregressor'],\n",
        "    scoring ='neg_mean_absolute_error',\n",
        "    n_iter=10,\n",
        "    #random_state=2\n",
        ")\n",
        "\n",
        "# val dataset 특성 Ordinal Encoding\n",
        "X_val_processed2 = pipe_xgb[0].transform(X_val)\n",
        "\n",
        "# Score 계산\n",
        "feature_names2 = list(X)\n",
        "permuter_2.fit(X_val_processed2, y_val)\n",
        "eli5.show_weights(\n",
        "    permuter_2,\n",
        "    top=None,\n",
        "    feature_names=feature_names2\n",
        ")"
      ],
      "metadata": {
        "colab": {
          "base_uri": "https://localhost:8080/",
          "height": 121
        },
        "id": "4HEDVRpQhO6i",
        "outputId": "56edb0b0-0605-4471-c557-e55d0ae3710e"
      },
      "execution_count": 34,
      "outputs": [
        {
          "output_type": "execute_result",
          "data": {
            "text/plain": [
              "<IPython.core.display.HTML object>"
            ],
            "text/html": [
              "\n",
              "    <style>\n",
              "    table.eli5-weights tr:hover {\n",
              "        filter: brightness(85%);\n",
              "    }\n",
              "</style>\n",
              "\n",
              "\n",
              "\n",
              "    \n",
              "\n",
              "    \n",
              "\n",
              "    \n",
              "\n",
              "    \n",
              "\n",
              "    \n",
              "\n",
              "    \n",
              "\n",
              "\n",
              "    \n",
              "\n",
              "    \n",
              "\n",
              "    \n",
              "\n",
              "    \n",
              "\n",
              "    \n",
              "\n",
              "    \n",
              "\n",
              "\n",
              "    \n",
              "\n",
              "    \n",
              "\n",
              "    \n",
              "\n",
              "    \n",
              "\n",
              "    \n",
              "        <table class=\"eli5-weights eli5-feature-importances\" style=\"border-collapse: collapse; border: none; margin-top: 0em; table-layout: auto;\">\n",
              "    <thead>\n",
              "    <tr style=\"border: none;\">\n",
              "        <th style=\"padding: 0 1em 0 0.5em; text-align: right; border: none;\">Weight</th>\n",
              "        <th style=\"padding: 0 0.5em 0 0.5em; text-align: left; border: none;\">Feature</th>\n",
              "    </tr>\n",
              "    </thead>\n",
              "    <tbody>\n",
              "    \n",
              "        <tr style=\"background-color: hsl(120, 100.00%, 80.00%); border: none;\">\n",
              "            <td style=\"padding: 0 1em 0 0.5em; text-align: right; border: none;\">\n",
              "                33901926.3807\n",
              "                \n",
              "                    &plusmn; 720841.7440\n",
              "                \n",
              "            </td>\n",
              "            <td style=\"padding: 0 0.5em 0 0.5em; text-align: left; border: none;\">\n",
              "                votes\n",
              "            </td>\n",
              "        </tr>\n",
              "    \n",
              "        <tr style=\"background-color: hsl(120, 100.00%, 93.45%); border: none;\">\n",
              "            <td style=\"padding: 0 1em 0 0.5em; text-align: right; border: none;\">\n",
              "                6877412.5177\n",
              "                \n",
              "                    &plusmn; 252133.8857\n",
              "                \n",
              "            </td>\n",
              "            <td style=\"padding: 0 0.5em 0 0.5em; text-align: left; border: none;\">\n",
              "                rating\n",
              "            </td>\n",
              "        </tr>\n",
              "    \n",
              "        <tr style=\"background-color: hsl(120, 100.00%, 95.02%); border: none;\">\n",
              "            <td style=\"padding: 0 1em 0 0.5em; text-align: right; border: none;\">\n",
              "                4646810.3441\n",
              "                \n",
              "                    &plusmn; 368976.4393\n",
              "                \n",
              "            </td>\n",
              "            <td style=\"padding: 0 0.5em 0 0.5em; text-align: left; border: none;\">\n",
              "                year\n",
              "            </td>\n",
              "        </tr>\n",
              "    \n",
              "        <tr style=\"background-color: hsl(120, 100.00%, 96.26%); border: none;\">\n",
              "            <td style=\"padding: 0 1em 0 0.5em; text-align: right; border: none;\">\n",
              "                3085304.1714\n",
              "                \n",
              "                    &plusmn; 198183.2721\n",
              "                \n",
              "            </td>\n",
              "            <td style=\"padding: 0 0.5em 0 0.5em; text-align: left; border: none;\">\n",
              "                runtime\n",
              "            </td>\n",
              "        </tr>\n",
              "    \n",
              "        <tr style=\"background-color: hsl(120, 100.00%, 97.00%); border: none;\">\n",
              "            <td style=\"padding: 0 1em 0 0.5em; text-align: right; border: none;\">\n",
              "                2252135.7698\n",
              "                \n",
              "                    &plusmn; 426808.8119\n",
              "                \n",
              "            </td>\n",
              "            <td style=\"padding: 0 0.5em 0 0.5em; text-align: left; border: none;\">\n",
              "                genre\n",
              "            </td>\n",
              "        </tr>\n",
              "    \n",
              "    \n",
              "    </tbody>\n",
              "</table>\n",
              "    \n",
              "\n",
              "    \n",
              "\n",
              "\n",
              "    \n",
              "\n",
              "    \n",
              "\n",
              "    \n",
              "\n",
              "    \n",
              "\n",
              "    \n",
              "\n",
              "    \n",
              "\n",
              "\n",
              "\n"
            ]
          },
          "metadata": {},
          "execution_count": 34
        }
      ]
    },
    {
      "cell_type": "code",
      "source": [
        "#위의 내용은 각 특성이 예측 성능에 얼마나 영향을 주는지 쉽게 파악할 수 있음."
      ],
      "metadata": {
        "id": "oP_uKcrkS2C8"
      },
      "execution_count": 35,
      "outputs": []
    },
    {
      "cell_type": "code",
      "source": [],
      "metadata": {
        "id": "HUGlndJUThiD"
      },
      "execution_count": 35,
      "outputs": []
    },
    {
      "cell_type": "markdown",
      "source": [
        "#PDP"
      ],
      "metadata": {
        "id": "ZnQpj6tsT-XG"
      }
    },
    {
      "cell_type": "code",
      "source": [
        "X_val.iloc[[3]]"
      ],
      "metadata": {
        "colab": {
          "base_uri": "https://localhost:8080/",
          "height": 80
        },
        "id": "qZWoYuYwT_tg",
        "outputId": "70b2ac84-cb99-440b-e37b-ab0aa31890bf"
      },
      "execution_count": 36,
      "outputs": [
        {
          "output_type": "execute_result",
          "data": {
            "text/plain": [
              "       year  runtime    genre  rating  votes\n",
              "23050  1987       89  romance     6.0   3889"
            ],
            "text/html": [
              "\n",
              "  <div id=\"df-85f918a6-6ba0-4a85-bbbe-b68282b4cdaf\">\n",
              "    <div class=\"colab-df-container\">\n",
              "      <div>\n",
              "<style scoped>\n",
              "    .dataframe tbody tr th:only-of-type {\n",
              "        vertical-align: middle;\n",
              "    }\n",
              "\n",
              "    .dataframe tbody tr th {\n",
              "        vertical-align: top;\n",
              "    }\n",
              "\n",
              "    .dataframe thead th {\n",
              "        text-align: right;\n",
              "    }\n",
              "</style>\n",
              "<table border=\"1\" class=\"dataframe\">\n",
              "  <thead>\n",
              "    <tr style=\"text-align: right;\">\n",
              "      <th></th>\n",
              "      <th>year</th>\n",
              "      <th>runtime</th>\n",
              "      <th>genre</th>\n",
              "      <th>rating</th>\n",
              "      <th>votes</th>\n",
              "    </tr>\n",
              "  </thead>\n",
              "  <tbody>\n",
              "    <tr>\n",
              "      <th>23050</th>\n",
              "      <td>1987</td>\n",
              "      <td>89</td>\n",
              "      <td>romance</td>\n",
              "      <td>6.0</td>\n",
              "      <td>3889</td>\n",
              "    </tr>\n",
              "  </tbody>\n",
              "</table>\n",
              "</div>\n",
              "      <button class=\"colab-df-convert\" onclick=\"convertToInteractive('df-85f918a6-6ba0-4a85-bbbe-b68282b4cdaf')\"\n",
              "              title=\"Convert this dataframe to an interactive table.\"\n",
              "              style=\"display:none;\">\n",
              "        \n",
              "  <svg xmlns=\"http://www.w3.org/2000/svg\" height=\"24px\"viewBox=\"0 0 24 24\"\n",
              "       width=\"24px\">\n",
              "    <path d=\"M0 0h24v24H0V0z\" fill=\"none\"/>\n",
              "    <path d=\"M18.56 5.44l.94 2.06.94-2.06 2.06-.94-2.06-.94-.94-2.06-.94 2.06-2.06.94zm-11 1L8.5 8.5l.94-2.06 2.06-.94-2.06-.94L8.5 2.5l-.94 2.06-2.06.94zm10 10l.94 2.06.94-2.06 2.06-.94-2.06-.94-.94-2.06-.94 2.06-2.06.94z\"/><path d=\"M17.41 7.96l-1.37-1.37c-.4-.4-.92-.59-1.43-.59-.52 0-1.04.2-1.43.59L10.3 9.45l-7.72 7.72c-.78.78-.78 2.05 0 2.83L4 21.41c.39.39.9.59 1.41.59.51 0 1.02-.2 1.41-.59l7.78-7.78 2.81-2.81c.8-.78.8-2.07 0-2.86zM5.41 20L4 18.59l7.72-7.72 1.47 1.35L5.41 20z\"/>\n",
              "  </svg>\n",
              "      </button>\n",
              "      \n",
              "  <style>\n",
              "    .colab-df-container {\n",
              "      display:flex;\n",
              "      flex-wrap:wrap;\n",
              "      gap: 12px;\n",
              "    }\n",
              "\n",
              "    .colab-df-convert {\n",
              "      background-color: #E8F0FE;\n",
              "      border: none;\n",
              "      border-radius: 50%;\n",
              "      cursor: pointer;\n",
              "      display: none;\n",
              "      fill: #1967D2;\n",
              "      height: 32px;\n",
              "      padding: 0 0 0 0;\n",
              "      width: 32px;\n",
              "    }\n",
              "\n",
              "    .colab-df-convert:hover {\n",
              "      background-color: #E2EBFA;\n",
              "      box-shadow: 0px 1px 2px rgba(60, 64, 67, 0.3), 0px 1px 3px 1px rgba(60, 64, 67, 0.15);\n",
              "      fill: #174EA6;\n",
              "    }\n",
              "\n",
              "    [theme=dark] .colab-df-convert {\n",
              "      background-color: #3B4455;\n",
              "      fill: #D2E3FC;\n",
              "    }\n",
              "\n",
              "    [theme=dark] .colab-df-convert:hover {\n",
              "      background-color: #434B5C;\n",
              "      box-shadow: 0px 1px 3px 1px rgba(0, 0, 0, 0.15);\n",
              "      filter: drop-shadow(0px 1px 2px rgba(0, 0, 0, 0.3));\n",
              "      fill: #FFFFFF;\n",
              "    }\n",
              "  </style>\n",
              "\n",
              "      <script>\n",
              "        const buttonEl =\n",
              "          document.querySelector('#df-85f918a6-6ba0-4a85-bbbe-b68282b4cdaf button.colab-df-convert');\n",
              "        buttonEl.style.display =\n",
              "          google.colab.kernel.accessAllowed ? 'block' : 'none';\n",
              "\n",
              "        async function convertToInteractive(key) {\n",
              "          const element = document.querySelector('#df-85f918a6-6ba0-4a85-bbbe-b68282b4cdaf');\n",
              "          const dataTable =\n",
              "            await google.colab.kernel.invokeFunction('convertToInteractive',\n",
              "                                                     [key], {});\n",
              "          if (!dataTable) return;\n",
              "\n",
              "          const docLinkHtml = 'Like what you see? Visit the ' +\n",
              "            '<a target=\"_blank\" href=https://colab.research.google.com/notebooks/data_table.ipynb>data table notebook</a>'\n",
              "            + ' to learn more about interactive tables.';\n",
              "          element.innerHTML = '';\n",
              "          dataTable['output_type'] = 'display_data';\n",
              "          await google.colab.output.renderOutput(dataTable, element);\n",
              "          const docLink = document.createElement('div');\n",
              "          docLink.innerHTML = docLinkHtml;\n",
              "          element.appendChild(docLink);\n",
              "        }\n",
              "      </script>\n",
              "    </div>\n",
              "  </div>\n",
              "  "
            ]
          },
          "metadata": {},
          "execution_count": 36
        }
      ]
    },
    {
      "cell_type": "code",
      "source": [
        "from pdpbox.pdp import pdp_isolate, pdp_plot\n",
        "from pdpbox import pdp\n",
        "\n",
        "# runtime에 대한 PDP\n",
        "selected_feature = 'runtime'\n",
        "pdp_dist = pdp_isolate(\n",
        "    model=pipe_xgb,\n",
        "    dataset=X_val,\n",
        "    model_features=X_val.columns,\n",
        "    feature=selected_feature\n",
        ")\n",
        "pdp.pdp_plot(pdp_dist, selected_feature);"
      ],
      "metadata": {
        "colab": {
          "base_uri": "https://localhost:8080/",
          "height": 812
        },
        "id": "esk-T_DKVe3K",
        "outputId": "e10002f6-6e1f-4927-96dc-6cdaaeb7646c"
      },
      "execution_count": 41,
      "outputs": [
        {
          "output_type": "display_data",
          "data": {
            "text/plain": [
              "<Figure size 1500x950 with 2 Axes>"
            ],
            "image/png": "[encoded data removed]"
          },
          "metadata": {}
        }
      ]
    },
    {
      "cell_type": "code",
      "source": [
        "selected_feature = 'votes'\n",
        "pdp_dist = pdp_isolate(\n",
        "    model=pipe_xgb,\n",
        "    dataset=X_val,\n",
        "    model_features=X_val.columns,\n",
        "    feature=selected_feature\n",
        ")\n",
        "pdp.pdp_plot(pdp_dist, selected_feature);"
      ],
      "metadata": {
        "colab": {
          "base_uri": "https://localhost:8080/",
          "height": 812
        },
        "id": "GXlNmN1Ra831",
        "outputId": "e0ab1cab-d7cc-4497-cc1d-724e2e2d1087"
      },
      "execution_count": 42,
      "outputs": [
        {
          "output_type": "display_data",
          "data": {
            "text/plain": [
              "<Figure size 1500x950 with 2 Axes>"
            ],
            "image/png": "[encoded data removed]"
          },
          "metadata": {}
        }
      ]
    },
    {
      "cell_type": "code",
      "source": [
        "selected_feature = 'rating'\n",
        "pdp_dist = pdp_isolate(\n",
        "    model=pipe_xgb,\n",
        "    dataset=X_val,\n",
        "    model_features=X_val.columns,\n",
        "    feature=selected_feature\n",
        ")\n",
        "pdp.pdp_plot(pdp_dist, selected_feature);"
      ],
      "metadata": {
        "colab": {
          "base_uri": "https://localhost:8080/",
          "height": 812
        },
        "id": "94TmCtgbD0B0",
        "outputId": "2eebf8cf-ff02-408f-e81b-d0c9965d871a"
      },
      "execution_count": 43,
      "outputs": [
        {
          "output_type": "display_data",
          "data": {
            "text/plain": [
              "<Figure size 1500x950 with 2 Axes>"
            ],
            "image/png": "[encoded data removed]"
          },
          "metadata": {}
        }
      ]
    },
    {
      "cell_type": "code",
      "source": [
        "selected_feature = 'year'\n",
        "pdp_dist = pdp_isolate(\n",
        "    model=pipe_xgb,\n",
        "    dataset=X_val,\n",
        "    model_features=X_val.columns,\n",
        "    feature=selected_feature\n",
        ")\n",
        "pdp.pdp_plot(pdp_dist, selected_feature);"
      ],
      "metadata": {
        "colab": {
          "base_uri": "https://localhost:8080/",
          "height": 812
        },
        "id": "PjSUo0ItFvU1",
        "outputId": "56593731-c6c0-4cb3-d595-0f034785a62f"
      },
      "execution_count": 44,
      "outputs": [
        {
          "output_type": "display_data",
          "data": {
            "text/plain": [
              "<Figure size 1500x950 with 2 Axes>"
            ],
            "image/png": "[encoded data removed]"
          },
          "metadata": {}
        }
      ]
    },
    {
      "cell_type": "code",
      "source": [],
      "metadata": {
        "id": "_R9vcb74Lefl"
      },
      "execution_count": null,
      "outputs": []
    }
  ]
}